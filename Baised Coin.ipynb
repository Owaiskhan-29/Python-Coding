{
 "cells": [
  {
   "cell_type": "code",
   "execution_count": null,
   "id": "2c71d96e",
   "metadata": {},
   "outputs": [],
   "source": []
  },
  {
   "cell_type": "code",
   "execution_count": 41,
   "id": "cbeecee1",
   "metadata": {},
   "outputs": [
    {
     "name": "stdout",
     "output_type": "stream",
     "text": [
      "present side is : Head\n",
      " Now, i am tossing coin\n",
      "After the toss side is : Head\n"
     ]
    }
   ],
   "source": [
    "import random\n",
    "class Coin:\n",
    "    def __init__(self):  # Constructor\n",
    "        self.side=\"Head\"\n",
    "\n",
    "    def toss(self):\n",
    "        if random.randint(0,1)==0:\n",
    "            self.side=\"Head\"\n",
    "        else:\n",
    "            self.side=\"Tail\"\n",
    "\n",
    "    def get_side(self):\n",
    "        return self.side\n",
    "\n",
    "c=Coin()\n",
    "print(\"present side is :\",c.get_side())\n",
    "print(\" Now, i am tossing coin\")\n",
    "c.toss()\n",
    "c.side=\"Head\"\n",
    "print(\"After the toss side is :\",c.get_side())\n",
    "\n",
    "# print(\"present side is :\",c.get_side())\n",
    "# print(\" Now, i am tossing coin\")\n",
    "# c.toss()\n",
    "# #c.get_side()\n",
    "# c.side=\"Head\"\n",
    "# print(\" After tossing i got : \",c.get_side())"
   ]
  },
  {
   "cell_type": "code",
   "execution_count": 27,
   "id": "db47f9ba",
   "metadata": {},
   "outputs": [
    {
     "name": "stdout",
     "output_type": "stream",
     "text": [
      "6\n"
     ]
    }
   ],
   "source": [
    "print(random.randint(0,10))"
   ]
  },
  {
   "cell_type": "code",
   "execution_count": null,
   "id": "368526d2",
   "metadata": {},
   "outputs": [],
   "source": []
  }
 ],
 "metadata": {
  "kernelspec": {
   "display_name": "Python 3 (ipykernel)",
   "language": "python",
   "name": "python3"
  },
  "language_info": {
   "codemirror_mode": {
    "name": "ipython",
    "version": 3
   },
   "file_extension": ".py",
   "mimetype": "text/x-python",
   "name": "python",
   "nbconvert_exporter": "python",
   "pygments_lexer": "ipython3",
   "version": "3.9.7"
  }
 },
 "nbformat": 4,
 "nbformat_minor": 5
}

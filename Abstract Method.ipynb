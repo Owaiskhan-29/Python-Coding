{
 "cells": [
  {
   "cell_type": "code",
   "execution_count": null,
   "id": "1256893d",
   "metadata": {},
   "outputs": [],
   "source": []
  },
  {
   "cell_type": "code",
   "execution_count": 4,
   "id": "c43a9f40",
   "metadata": {},
   "outputs": [],
   "source": [
    "from abc import ABC,abstractmethod\n",
    "\n",
    "class Operators(ABC):\n",
    "    @abstractmethod\n",
    "    def x(self,a,b):\n",
    "        pass\n",
    "    \n",
    "class Add(Operators):\n",
    "    def x(self,a,b):\n",
    "        print(\"sum is : \",a+b)\n",
    "        \n",
    "class Sub(Operators):\n",
    "    def x(self,a,b):\n",
    "        print(\"difference is : \",a-b)\n",
    "        \n",
    "class Mul(Operators):\n",
    "    def x(self,a,b):\n",
    "        print(\"sum is : \",a*b)\n",
    "        \n",
    "\n"
   ]
  },
  {
   "cell_type": "code",
   "execution_count": null,
   "id": "357c9f33",
   "metadata": {},
   "outputs": [],
   "source": []
  }
 ],
 "metadata": {
  "kernelspec": {
   "display_name": "Python 3 (ipykernel)",
   "language": "python",
   "name": "python3"
  },
  "language_info": {
   "codemirror_mode": {
    "name": "ipython",
    "version": 3
   },
   "file_extension": ".py",
   "mimetype": "text/x-python",
   "name": "python",
   "nbconvert_exporter": "python",
   "pygments_lexer": "ipython3",
   "version": "3.10.5"
  }
 },
 "nbformat": 4,
 "nbformat_minor": 5
}

{
 "cells": [
  {
   "cell_type": "markdown",
   "id": "9ab4e6da",
   "metadata": {},
   "source": [
    "# Variables\n",
    "Definition:-\n",
    "\n",
    ">A variable is a reference of the memory location where the object going to store in the memory.\n",
    "\n",
    "We have few rules to give the variable name. that are:\n",
    "\n",
    "1) A variable name can contain the alphabets and numbers.\n",
    "\n",
    "2) A variable name doesn't contian any special symbols except underscore(\"_\"). (Special symbols means like,@,#,$,%,^,&,*,!.....etc)\n",
    "\n",
    "3) A variable name must start with the alphabets\n",
    "\n",
    "4) A variable name can't start with the number but, a variable name can followed by the number\n",
    "\n",
    "5) A variable name can not cantain any whitespace\n",
    "\n",
    "6) We can not allowed to use the keywords as a variable name."
   ]
  },
  {
   "cell_type": "code",
   "execution_count": 1,
   "id": "b8627db7",
   "metadata": {},
   "outputs": [
    {
     "name": "stdout",
     "output_type": "stream",
     "text": [
      "10\n"
     ]
    }
   ],
   "source": [
    "# Example for a proper variable name\n",
    "myvar = 10   # creating the variable with value 10\n",
    "myvar1 = 10\n",
    "myvar_1 = 10\n",
    "MyVar = 10\n",
    "My_Var_1 =10\n",
    "myvar_1_aa =10\n",
    "\n",
    "# Example for the incorrect variable name\n",
    "#1_myvar = 10\n",
    "# myvar 1 = 10\n",
    "# My@var = 10\n",
    "\n",
    "\n",
    "\n",
    "print(myvar)\n",
    "\n"
   ]
  },
  {
   "cell_type": "code",
   "execution_count": 2,
   "id": "37968776",
   "metadata": {},
   "outputs": [],
   "source": [
    "a=10\n",
    "b=20"
   ]
  },
  {
   "cell_type": "code",
   "execution_count": 3,
   "id": "a6258d75",
   "metadata": {},
   "outputs": [
    {
     "name": "stdout",
     "output_type": "stream",
     "text": [
      "20\n",
      "30\n"
     ]
    }
   ],
   "source": [
    "a,b=20,30\n",
    "print(a)\n",
    "print(b)"
   ]
  },
  {
   "cell_type": "code",
   "execution_count": 4,
   "id": "eb5aa062",
   "metadata": {},
   "outputs": [
    {
     "name": "stdout",
     "output_type": "stream",
     "text": [
      "30\n",
      "20\n",
      "a\n",
      "b\n",
      "123\n"
     ]
    }
   ],
   "source": [
    "a = 20\n",
    "b=30\n",
    "print(b)\n",
    "print(a)\n",
    "print(\"a\")\n",
    "print(\"b\")\n",
    "print('123')"
   ]
  },
  {
   "cell_type": "code",
   "execution_count": 5,
   "id": "573b147f",
   "metadata": {},
   "outputs": [],
   "source": [
    "Roll=123\n",
    "name=\"Python\""
   ]
  },
  {
   "cell_type": "markdown",
   "id": "742f55e4",
   "metadata": {},
   "source": [
    "# Datatype Overview"
   ]
  },
  {
   "cell_type": "markdown",
   "id": "1d4cfa71",
   "metadata": {},
   "source": [
    "# Datatype :-\n",
    "A Datatype represent the type of the data stored in the variable.\n",
    "\n",
    "The stored in the variable is called literal."
   ]
  },
  {
   "cell_type": "markdown",
   "id": "30e7343b",
   "metadata": {},
   "source": [
    "# Pre-defind datatypes"
   ]
  },
  {
   "cell_type": "markdown",
   "id": "7b4a8859",
   "metadata": {},
   "source": [
    ">1) Numeric Datatype"
   ]
  },
  {
   "cell_type": "markdown",
   "id": "f89cf9ea",
   "metadata": {},
   "source": [
    ">2) Sequential"
   ]
  },
  {
   "cell_type": "markdown",
   "id": "d6f3892f",
   "metadata": {},
   "source": [
    "> 3) set"
   ]
  },
  {
   "cell_type": "markdown",
   "id": "1638dd8e",
   "metadata": {},
   "source": [
    "## 1) Numeric datatypes"
   ]
  },
  {
   "cell_type": "code",
   "execution_count": 6,
   "id": "25c30971",
   "metadata": {},
   "outputs": [],
   "source": [
    "a=0"
   ]
  },
  {
   "cell_type": "markdown",
   "id": "a28fa391",
   "metadata": {},
   "source": [
    "1) int ( 1,2,3,4,...65234286524...etc)\n",
    "\n",
    "2) float ( 12.34, 6537.88762556336\n",
    "\n",
    "3) complex ( a+bj, ex: 10+5j"
   ]
  },
  {
   "cell_type": "markdown",
   "id": "db6372f6",
   "metadata": {},
   "source": [
    "#### int"
   ]
  },
  {
   "cell_type": "code",
   "execution_count": 7,
   "id": "62d56219",
   "metadata": {
    "scrolled": true
   },
   "outputs": [
    {
     "name": "stdout",
     "output_type": "stream",
     "text": [
      "30\n",
      "The sum of the  10 and 20 is  30\n",
      "The sum of the 10 and 20 is 30\n"
     ]
    }
   ],
   "source": [
    "x=10\n",
    "y=20\n",
    "sum=x+y\n",
    "print(sum)\n",
    "print(\"The sum of the \",x,\"and\",y,\"is \",sum)\n",
    "print(\"The sum of the {} and {} is {}\".format(x,y,x+y))"
   ]
  },
  {
   "cell_type": "code",
   "execution_count": 8,
   "id": "843d59b5",
   "metadata": {},
   "outputs": [
    {
     "name": "stdout",
     "output_type": "stream",
     "text": [
      "\n"
     ]
    }
   ],
   "source": [
    "print()"
   ]
  },
  {
   "cell_type": "code",
   "execution_count": 9,
   "id": "fd8fd8f5",
   "metadata": {},
   "outputs": [
    {
     "name": "stdout",
     "output_type": "stream",
     "text": [
      "11\n",
      "a+b\n"
     ]
    }
   ],
   "source": [
    "a=3\n",
    "b=8\n",
    "\n",
    "print(a+b)\n",
    "print(\"a+b\")"
   ]
  },
  {
   "cell_type": "markdown",
   "id": "8fbd2cd0",
   "metadata": {},
   "source": [
    "#### float"
   ]
  },
  {
   "cell_type": "code",
   "execution_count": 10,
   "id": "6b1fa3c5",
   "metadata": {},
   "outputs": [
    {
     "name": "stdout",
     "output_type": "stream",
     "text": [
      "10.9\n"
     ]
    }
   ],
   "source": [
    "f1=0.9\n",
    "f2=10.0\n",
    "sum=f1+f2\n",
    "print(sum)"
   ]
  },
  {
   "cell_type": "code",
   "execution_count": 11,
   "id": "b3682fe4",
   "metadata": {},
   "outputs": [
    {
     "name": "stdout",
     "output_type": "stream",
     "text": [
      "88.982\n"
     ]
    }
   ],
   "source": [
    "a=12\n",
    "f=76.982\n",
    "print(a+f)"
   ]
  },
  {
   "cell_type": "markdown",
   "id": "ab5e5213",
   "metadata": {},
   "source": [
    "### complex"
   ]
  },
  {
   "cell_type": "markdown",
   "id": "08a5c428",
   "metadata": {},
   "source": [
    "complex_num=a+bj\n",
    "\n",
    "a=real part(int, float)\n",
    "\n",
    "b=imaginary part(int,float)"
   ]
  },
  {
   "cell_type": "code",
   "execution_count": 12,
   "id": "51e02532",
   "metadata": {},
   "outputs": [
    {
     "name": "stdout",
     "output_type": "stream",
     "text": [
      "(5.5+1j)\n",
      "(32.5+2.5j)\n",
      "(20-10j)\n"
     ]
    }
   ],
   "source": [
    "a= 30  # int\n",
    "f=17.0  # float\n",
    "c1=2.5+2.5J  # complex\n",
    "c2=3.0-1.5J  # complex\n",
    "c3=3-10j  # complex \n",
    "c=c1+c2\n",
    "print(c)\n",
    "print(a+c1)\n",
    "print(f+c3)  # 17.00+7j\n",
    "\n",
    "#Real part=2.5+3.0=5.5\n",
    "#imaginary=2.5-1.5=1"
   ]
  },
  {
   "cell_type": "code",
   "execution_count": 13,
   "id": "3eece04d",
   "metadata": {},
   "outputs": [
    {
     "name": "stdout",
     "output_type": "stream",
     "text": [
      "(4.188679245283018-1.6603773584905661j)\n"
     ]
    }
   ],
   "source": [
    "a=46+6j\n",
    "b=9+5j\n",
    "print(a/b)"
   ]
  },
  {
   "cell_type": "markdown",
   "id": "45c4a461",
   "metadata": {},
   "source": [
    "# 2) Sequential Datatypes\n",
    "\n",
    "1) String(str) datatype\n",
    "\n",
    "2) list datatype\n",
    "\n",
    "3) tuple datatype\n",
    "\n",
    "4) dictionaray datatype"
   ]
  },
  {
   "cell_type": "markdown",
   "id": "b1898ccc",
   "metadata": {},
   "source": [
    "### str (String) datatype"
   ]
  },
  {
   "cell_type": "markdown",
   "id": "f541c5a8",
   "metadata": {},
   "source": [
    "String:-\n",
    "String is a group of characters enclosed in between single/dubble/triple quotes\n",
    "\n",
    "ex: \"Python\" OR 'Python' OR \"\"\"Python\"\"\""
   ]
  },
  {
   "cell_type": "markdown",
   "id": "251fba98",
   "metadata": {},
   "source": [
    "'python' \n",
    "\n",
    "\"python\"  \n",
    "\n",
    "'''python''' \n",
    "\n",
    "\"\"\"python\"\"\""
   ]
  },
  {
   "cell_type": "code",
   "execution_count": 14,
   "id": "e7f945fd",
   "metadata": {},
   "outputs": [
    {
     "name": "stdout",
     "output_type": "stream",
     "text": [
      "python\n",
      "name\n"
     ]
    }
   ],
   "source": [
    "name=\"python\"\n",
    "print(name)\n",
    "print(\"name\")\n"
   ]
  },
  {
   "cell_type": "code",
   "execution_count": 15,
   "id": "c6486b50",
   "metadata": {},
   "outputs": [
    {
     "name": "stdout",
     "output_type": "stream",
     "text": [
      "10\n",
      "11\n"
     ]
    }
   ],
   "source": [
    "x=10\n",
    "y=11\n",
    "print(x)\n",
    "print(y)\n"
   ]
  },
  {
   "cell_type": "markdown",
   "id": "f006e7fe",
   "metadata": {},
   "source": [
    "## list Datatype( Mutable )"
   ]
  },
  {
   "cell_type": "markdown",
   "id": "0c4628bd",
   "metadata": {},
   "source": [
    "Definition:-\n",
    "\n",
    "A list is a ordered collection of elements of different datatypes,enclosed within the square brachets and separeted by the cammas\n",
    "\n",
    "Ex : list=[1,23,6,24,287.873,873,982,\"python\",\"data\",[1,2,3,4,5],(3,12,5)]\n",
    "\n",
    "1) we can access the elements from the list by using the index number\n",
    "\n"
   ]
  },
  {
   "cell_type": "code",
   "execution_count": null,
   "id": "22194180",
   "metadata": {},
   "outputs": [],
   "source": []
  },
  {
   "cell_type": "code",
   "execution_count": 18,
   "id": "cea1ff53",
   "metadata": {},
   "outputs": [
    {
     "name": "stdout",
     "output_type": "stream",
     "text": [
      "11\n",
      "[11, 12, 13, 14, 15, 16, 17, 18, 19, 20]\n",
      "[11, 12, 13, 14, 15, 16, 17, 18, 19, 20]\n",
      "[13, 14, 15, 16, 17, 18, 19, 20]\n",
      "[13, 14, 15, 16, 17, 18, 19, 20]\n"
     ]
    },
    {
     "ename": "ValueError",
     "evalue": "slice step cannot be zero",
     "output_type": "error",
     "traceback": [
      "\u001b[1;31m---------------------------------------------------------------------------\u001b[0m",
      "\u001b[1;31mValueError\u001b[0m                                Traceback (most recent call last)",
      "\u001b[1;32mC:\\Users\\SHAILA~1\\AppData\\Local\\Temp/ipykernel_1400/2836817027.py\u001b[0m in \u001b[0;36m<module>\u001b[1;34m\u001b[0m\n\u001b[0;32m      5\u001b[0m \u001b[0mprint\u001b[0m\u001b[1;33m(\u001b[0m\u001b[0ml\u001b[0m\u001b[1;33m[\u001b[0m\u001b[1;36m2\u001b[0m\u001b[1;33m:\u001b[0m\u001b[1;33m]\u001b[0m\u001b[1;33m)\u001b[0m\u001b[1;33m\u001b[0m\u001b[1;33m\u001b[0m\u001b[0m\n\u001b[0;32m      6\u001b[0m \u001b[0mprint\u001b[0m\u001b[1;33m(\u001b[0m\u001b[0ml\u001b[0m\u001b[1;33m[\u001b[0m\u001b[1;36m2\u001b[0m\u001b[1;33m:\u001b[0m\u001b[1;36m100\u001b[0m\u001b[1;33m]\u001b[0m\u001b[1;33m)\u001b[0m\u001b[1;33m\u001b[0m\u001b[1;33m\u001b[0m\u001b[0m\n\u001b[1;32m----> 7\u001b[1;33m \u001b[0mprint\u001b[0m\u001b[1;33m(\u001b[0m\u001b[0ml\u001b[0m\u001b[1;33m[\u001b[0m\u001b[1;36m2\u001b[0m\u001b[1;33m:\u001b[0m\u001b[1;36m8\u001b[0m\u001b[1;33m:\u001b[0m\u001b[1;36m0\u001b[0m\u001b[1;33m]\u001b[0m\u001b[1;33m)\u001b[0m\u001b[1;33m\u001b[0m\u001b[1;33m\u001b[0m\u001b[0m\n\u001b[0m",
      "\u001b[1;31mValueError\u001b[0m: slice step cannot be zero"
     ]
    }
   ],
   "source": [
    "l=[11,12,13,14,15,16,17,18,19,20]\n",
    "print(l[0])\n",
    "print(l[::])   # [::]=[starting_poni : End_pont : Step]\n",
    "print(l[:])\n",
    "print(l[2:])\n",
    "print(l[2:100])\n",
    "print(l[2:8:0])  # Error"
   ]
  },
  {
   "cell_type": "code",
   "execution_count": 16,
   "id": "ccf6c048",
   "metadata": {},
   "outputs": [
    {
     "name": "stdout",
     "output_type": "stream",
     "text": [
      "2\n",
      "1\n"
     ]
    }
   ],
   "source": [
    "\n",
    "l=[1,2,3,4,5,6,7,8]\n",
    "print(l[1])  # Accessing the lements using the index numbers\n",
    "print(l[0])\n",
    "\n",
    "#print(l[10]) #error"
   ]
  },
  {
   "cell_type": "code",
   "execution_count": 17,
   "id": "db0b8b58",
   "metadata": {},
   "outputs": [],
   "source": [
    "l=[1,2,3,4,23.8762,\"Python\",[1,2,3]]"
   ]
  },
  {
   "cell_type": "markdown",
   "id": "c7102b4d",
   "metadata": {},
   "source": [
    "## tuple datatype ( immutable )"
   ]
  },
  {
   "cell_type": "markdown",
   "id": "7345e21d",
   "metadata": {},
   "source": [
    "Definition:-\n",
    "\n",
    "A tuple is a ordered collection of elements of different datatypes,enclosed within the paranthesis brachets and separeted by the cammas"
   ]
  },
  {
   "cell_type": "code",
   "execution_count": 18,
   "id": "32b0a3b8",
   "metadata": {},
   "outputs": [],
   "source": [
    "t=(1,2,3,4,23.8762,\"Python\",[1,2,3])"
   ]
  },
  {
   "cell_type": "markdown",
   "id": "9654ff8a",
   "metadata": {},
   "source": [
    "## Dictionary Datatype"
   ]
  },
  {
   "cell_type": "markdown",
   "id": "466c5a69",
   "metadata": {},
   "source": [
    "Definition:-\n",
    "\n",
    "A Dictionary is a collection of Key and Value Pair"
   ]
  },
  {
   "cell_type": "code",
   "execution_count": null,
   "id": "3c785841",
   "metadata": {
    "scrolled": true
   },
   "outputs": [],
   "source": [
    "Python=[2456,[876,3,7,9],98]\n",
    "d = {\"name\":\"Python\",\"version\":3,1:1729,\"a\":1,\"list\":[1,2,3,4],\"dict\":{1:\"a\",2:\"b\"}}\n",
    "print(d)\n",
    "print(d['name'])\n",
    "print(d[\"version\"])\n",
    "print(d[\"list\"][3])\n",
    "print(d[1])\n",
    "\n",
    "#print(d[\"dict\"][2])\n",
    "#print(d[\"list\"])"
   ]
  },
  {
   "cell_type": "markdown",
   "id": "66c95676",
   "metadata": {},
   "source": [
    "## 3) set Datatype"
   ]
  },
  {
   "cell_type": "markdown",
   "id": "99739bfe",
   "metadata": {},
   "source": [
    " A set is unordered collection of the elements. ( unordered elemnts in the set is not maintain the order )\n",
    " \n",
    " And, it is a mutable type\n",
    " \n",
    " "
   ]
  },
  {
   "cell_type": "code",
   "execution_count": null,
   "id": "a8f0c526",
   "metadata": {},
   "outputs": [],
   "source": [
    "s={1,2,3,4,5,1,1,2,5}\n",
    "print(s)"
   ]
  },
  {
   "cell_type": "markdown",
   "id": "56c5bde8",
   "metadata": {},
   "source": [
    "### Type conversion\n",
    "Coverting the one datatype into another datatype"
   ]
  },
  {
   "cell_type": "code",
   "execution_count": 20,
   "id": "abc64a01",
   "metadata": {},
   "outputs": [
    {
     "name": "stdout",
     "output_type": "stream",
     "text": [
      "<class 'int'>\n",
      "<class 'str'>\n",
      "10\n",
      "<class 'str'>\n",
      "1729\n",
      "<class 'int'>\n"
     ]
    }
   ],
   "source": [
    "# we have method called \"type()\" to check the datatype of the variable\n",
    "\n",
    "a=10\n",
    "name=\"1729\"\n",
    "f=353.826\n",
    "l=[1,2,4,4]\n",
    "t=(74,23,23)\n",
    "d={1:\"a\",2:\"b\"}\n",
    "s={2,3,1,3,1,2,3,1,1}\n",
    "\n",
    "print(type(a))\n",
    "print(type(name))\n",
    "\n",
    "a_new=str(a)\n",
    "print(a_new)\n",
    "print(type(a_new))\n",
    "\n",
    "name_new=int(name)\n",
    "print(name_new)\n",
    "print(type(name_new))"
   ]
  },
  {
   "cell_type": "code",
   "execution_count": null,
   "id": "cc4de6a5",
   "metadata": {},
   "outputs": [],
   "source": [
    "l=[1,2,3,4,5]\n",
    "t=(3,2,3,6,6)\n",
    "s={5,2,4,9,3,12,1,2}\n",
    "\n",
    "l_new=tuple(l)\n",
    "print(l_new)\n",
    "\n",
    "#list()\n",
    "#set()"
   ]
  },
  {
   "cell_type": "code",
   "execution_count": null,
   "id": "857dafb2",
   "metadata": {},
   "outputs": [],
   "source": [
    "x=(1,2,3,52)\n",
    "# type() method to know dtattype of the variable\n",
    "r1=type(x)\n",
    "print(r1)\n",
    "\n",
    "print(type(x))"
   ]
  },
  {
   "cell_type": "code",
   "execution_count": null,
   "id": "9a48cffa",
   "metadata": {},
   "outputs": [],
   "source": [
    "#int()\n",
    "s=\"123aaa\"\n",
    "print(type(s))\n",
    "r1=int(s)\n",
    "print(type(r1)) # raise the error"
   ]
  }
 ],
 "metadata": {
  "kernelspec": {
   "display_name": "Python 3 (ipykernel)",
   "language": "python",
   "name": "python3"
  },
  "language_info": {
   "codemirror_mode": {
    "name": "ipython",
    "version": 3
   },
   "file_extension": ".py",
   "mimetype": "text/x-python",
   "name": "python",
   "nbconvert_exporter": "python",
   "pygments_lexer": "ipython3",
   "version": "3.10.5"
  }
 },
 "nbformat": 4,
 "nbformat_minor": 5
}

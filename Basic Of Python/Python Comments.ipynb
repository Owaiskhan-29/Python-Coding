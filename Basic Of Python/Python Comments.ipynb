{
 "cells": [
  {
   "cell_type": "markdown",
   "id": "c8ab8ec8",
   "metadata": {},
   "source": [
    ">>> # PYTHON COMMENTS"
   ]
  },
  {
   "cell_type": "markdown",
   "id": "70a5057b",
   "metadata": {},
   "source": [
    "> Comments are used to explain the code. Its is easy undersatnd the code "
   ]
  },
  {
   "cell_type": "markdown",
   "id": "88e4516b",
   "metadata": {},
   "source": [
    "# Advantages of comments"
   ]
  },
  {
   "cell_type": "markdown",
   "id": "0787e042",
   "metadata": {},
   "source": [
    "Makes the code easily understandable by other programmers.\n",
    "\n",
    "Comments can be used to make the code more readable.\n",
    "\n",
    "Helps remember why we used a specific command, method, or function in the code.\n",
    "\n",
    "Enables the interpreter to ignore some part of the code while testing."
   ]
  },
  {
   "cell_type": "markdown",
   "id": "90218fbc",
   "metadata": {},
   "source": [
    "# Single line comments "
   ]
  },
  {
   "cell_type": "markdown",
   "id": "d7cb4ee2",
   "metadata": {},
   "source": [
    "Single-line comments begin with the “#” character. Anything that is written in a single line after ‘#’ is considered as a comment. The syntax for writing single-line comments is:"
   ]
  },
  {
   "cell_type": "code",
   "execution_count": 2,
   "id": "3f521079",
   "metadata": {},
   "outputs": [
    {
     "name": "stdout",
     "output_type": "stream",
     "text": [
      "3\n"
     ]
    }
   ],
   "source": [
    "a,b = 1,2  # assign the value\n",
    "print(a+b) # add the value"
   ]
  },
  {
   "cell_type": "code",
   "execution_count": 3,
   "id": "9094ea6c",
   "metadata": {},
   "outputs": [
    {
     "name": "stdout",
     "output_type": "stream",
     "text": [
      "Hello, World\n"
     ]
    }
   ],
   "source": [
    "#print(\"Cheers, Mate!\")\n",
    "print(\"Hello, World\")"
   ]
  },
  {
   "cell_type": "markdown",
   "id": "08386106",
   "metadata": {},
   "source": [
    "A comment does not have to be text that explains the code, it can also be used to prevent Python from executing code:"
   ]
  },
  {
   "cell_type": "markdown",
   "id": "43c0c9b6",
   "metadata": {},
   "source": [
    "# Multi Line Comments"
   ]
  },
  {
   "cell_type": "markdown",
   "id": "84e20f3d",
   "metadata": {},
   "source": [
    "Multi-line comments are used when we can add more than one line to explain the code. This is also known as multistring. The syntex is :-"
   ]
  },
  {
   "cell_type": "code",
   "execution_count": 4,
   "id": "b9e81be0",
   "metadata": {},
   "outputs": [
    {
     "data": {
      "text/plain": [
       "' This is multi\\n line commets '"
      ]
     },
     "execution_count": 4,
     "metadata": {},
     "output_type": "execute_result"
    }
   ],
   "source": [
    "\"\"\" This is multi\n",
    " line commets \"\"\""
   ]
  },
  {
   "cell_type": "markdown",
   "id": "fc59f535",
   "metadata": {},
   "source": [
    "# Docstrings"
   ]
  },
  {
   "cell_type": "markdown",
   "id": "3c12b8e3",
   "metadata": {},
   "source": [
    "The docstrings are declared using ”’triple single quotes”’ or “””triple double quotes””” just below the class, method or function declaration. All functions should have a docstring."
   ]
  },
  {
   "cell_type": "code",
   "execution_count": null,
   "id": "258e059b",
   "metadata": {},
   "outputs": [],
   "source": [
    "def f():\n",
    "    \"\"\" \n",
    "    A function to add two numbers \n",
    "    \n",
    "    \"\"\"\n",
    "    a,b=9,8\n",
    "    return a+b \n",
    "\n",
    "f()"
   ]
  },
  {
   "cell_type": "markdown",
   "id": "ce72b12a",
   "metadata": {},
   "source": [
    "The docstrings can be accessed using the __doc__ method of the object or using the help function."
   ]
  },
  {
   "cell_type": "code",
   "execution_count": 3,
   "id": "cca10eb2",
   "metadata": {},
   "outputs": [
    {
     "name": "stdout",
     "output_type": "stream",
     "text": [
      "Using __doc__:\n",
      "Demonstrates triple double quotes\n",
      "    docstrings and does nothing really.\n",
      "Using help:\n",
      "Help on function my_function in module __main__:\n",
      "\n",
      "my_function()\n",
      "    Demonstrates triple double quotes\n",
      "    docstrings and does nothing really.\n",
      "\n"
     ]
    }
   ],
   "source": [
    "\n",
    "def my_function():\n",
    "    \"\"\"Demonstrates triple double quotes\n",
    "    docstrings and does nothing really.\"\"\"\n",
    "   \n",
    "    return None\n",
    "  \n",
    "print(\"Using __doc__:\")\n",
    "print(my_function.__doc__)\n",
    "  \n",
    "print(\"Using help:\")\n",
    "help(my_function)"
   ]
  },
  {
   "cell_type": "code",
   "execution_count": null,
   "id": "2aa1634b",
   "metadata": {},
   "outputs": [],
   "source": []
  }
 ],
 "metadata": {
  "kernelspec": {
   "display_name": "Python 3 (ipykernel)",
   "language": "python",
   "name": "python3"
  },
  "language_info": {
   "codemirror_mode": {
    "name": "ipython",
    "version": 3
   },
   "file_extension": ".py",
   "mimetype": "text/x-python",
   "name": "python",
   "nbconvert_exporter": "python",
   "pygments_lexer": "ipython3",
   "version": "3.10.5"
  }
 },
 "nbformat": 4,
 "nbformat_minor": 5
}

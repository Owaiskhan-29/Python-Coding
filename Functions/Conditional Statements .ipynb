{
 "cells": [
  {
   "cell_type": "markdown",
   "id": "86767b44",
   "metadata": {},
   "source": [
    "# Conditional Statements ( Control Statements )\n"
   ]
  },
  {
   "cell_type": "markdown",
   "id": "f4675ee8",
   "metadata": {},
   "source": [
    "used check the conditions\n",
    "\n",
    "    1) if statemenets (used to check only one condition)\n",
    "\n",
    "    2) if else statemenets (used to check two condition)\n",
    "\n",
    "    3) elif statemenets ((used to check multiple condition)"
   ]
  },
  {
   "cell_type": "markdown",
   "id": "dc1eac55",
   "metadata": {},
   "source": [
    "# if Statement : "
   ]
  },
  {
   "cell_type": "markdown",
   "id": "f0e951f5",
   "metadata": {},
   "source": [
    "This statement is used to execute one or more statement depending on whether a condition is True or not. The syntax or correct format of if statement is given below: \n",
    "\n",
    ">Syntax :\n",
    "\n",
    "if condition:\n",
    "\n",
    "     Statement_1;\n",
    "     Statement_2;\n",
    "\n",
    ">statements First, the condition is tested. If the condition is True, then the statements given after colon (:) are executed. We can write one or more statements after colon (:). If the condition is False, then the statements mentioned after colon are not executed.\n",
    "\n",
    "To understand the simple if statement, let's write a Python program...."
   ]
  },
  {
   "cell_type": "code",
   "execution_count": 6,
   "id": "ab66c4bc",
   "metadata": {},
   "outputs": [
    {
     "name": "stdout",
     "output_type": "stream",
     "text": [
      "end\n"
     ]
    }
   ],
   "source": [
    "# if statement\n",
    "\"\"\"\n",
    "syntax:\n",
    "\n",
    "if(condition):\n",
    "    statemets\n",
    "    statemnts\n",
    "    \n",
    "\"\"\"\n",
    "\n",
    "age=15\n",
    "if(age>=21):\n",
    "    print(\"You can vote....\")\n",
    "    \n",
    "print(\"end\")"
   ]
  },
  {
   "cell_type": "markdown",
   "id": "0a1c1898",
   "metadata": {},
   "source": [
    ">We can also write a group of statements after colon. The group of statements in Python is called a suite. While writing a group of statements, we should write them all with proper indentation. Indentation represents the spaces left before the statements. The default indentation used in Python is 4 spaces. Let's write a program to display a group of messages using if statement."
   ]
  },
  {
   "cell_type": "code",
   "execution_count": 7,
   "id": "3023e6a2",
   "metadata": {},
   "outputs": [],
   "source": [
    "responce=\"YES\"\n",
    "if responce==\"YESS\":\n",
    "    print(\"YES\")\n",
    "    print(\"This is What you said\")\n",
    "    print(\"Your Responce is Good.\")\n",
    "    \n",
    "    "
   ]
  },
  {
   "cell_type": "markdown",
   "id": "2846f632",
   "metadata": {},
   "source": [
    "# if else Statement :\n",
    ">The if... else statement executes a group of statements when a condition is True; otherwise, it will execute another group of statements. The syntax of if ... else statement is given below:"
   ]
  },
  {
   "cell_type": "code",
   "execution_count": null,
   "id": "7578063c",
   "metadata": {},
   "outputs": [],
   "source": [
    "\"\"\"\n",
    "\n",
    "if(condition):  # this block executes when the condition is True\n",
    "    statements\n",
    "    \n",
    "else:           # this block executes when the condition is False\n",
    "    statements\n",
    "\n",
    "\"\"\""
   ]
  },
  {
   "cell_type": "code",
   "execution_count": 8,
   "id": "e0a8ab48",
   "metadata": {},
   "outputs": [
    {
     "name": "stdout",
     "output_type": "stream",
     "text": [
      "You can vote....\n",
      "Success\n"
     ]
    }
   ],
   "source": [
    "#if else stements\n",
    "\n",
    "\n",
    "age=25\n",
    "if(age>=21):  # Executes when the condition TRUE\n",
    "    print(\"You can vote....\")\n",
    "        \n",
    "else:         # Executes when the condition FALSE\n",
    "    print(\"You are not eligible to vote....\")\n",
    "\n",
    "print(\"Success\")\n"
   ]
  },
  {
   "cell_type": "markdown",
   "id": "606eeff5",
   "metadata": {},
   "source": [
    "# elif Statement :"
   ]
  },
  {
   "cell_type": "markdown",
   "id": "eaa7f0f6",
   "metadata": {},
   "source": [
    "> Sometimes, the programmer has to test multiple conditions and execute statements depending on those conditions. if... elif... else statement is useful in such situations. Consider the following syntax of if... elif... else statement:"
   ]
  },
  {
   "cell_type": "code",
   "execution_count": null,
   "id": "84926bf4",
   "metadata": {},
   "outputs": [],
   "source": [
    "\"\"\"\n",
    "if(condition_1):\n",
    "    statements\n",
    "elif(condition_2):\n",
    "    statements\n",
    "elif(condition_3)\n",
    "    statements\n",
    "    .\n",
    "    .\n",
    "    .\n",
    "    .\n",
    "    .\n",
    "else:\n",
    "    statements\n",
    "\"\"\""
   ]
  },
  {
   "cell_type": "code",
   "execution_count": 10,
   "id": "1a23a7cf",
   "metadata": {},
   "outputs": [
    {
     "name": "stdout",
     "output_type": "stream",
     "text": [
      "this is younger....\n"
     ]
    }
   ],
   "source": [
    "#elif\n",
    "\n",
    "age=20\n",
    "\n",
    "if(age<13):\n",
    "    print(\"This is a kid....\")\n",
    "elif(age<20):  \n",
    "    print(\"This is a teenager....\")\n",
    "elif(age<45):\n",
    "    print(\"this is younger....\")\n",
    "else:\n",
    "    print(\"older\")\n",
    "    \n",
    "   "
   ]
  },
  {
   "cell_type": "code",
   "execution_count": 35,
   "id": "de8ceaf8",
   "metadata": {},
   "outputs": [
    {
     "name": "stdout",
     "output_type": "stream",
     "text": [
      "\n",
      "its hot or cold ?\n",
      "\n",
      "enter the weather =23\n",
      "its a lovely day\n"
     ]
    }
   ],
   "source": [
    "print('''\n",
    "its hot or cold ?\n",
    "''')\n",
    "temp = int(input(\"enter the weather =\"))\n",
    "\n",
    "if (temp<=15):\n",
    "    print(\"wear warm dress\")\n",
    "elif(temp<=35):\n",
    "    print(\"its a lovely day\")    \n",
    "else:\n",
    "    print(\"Drink more water \")"
   ]
  },
  {
   "cell_type": "code",
   "execution_count": 18,
   "id": "b73813d8",
   "metadata": {},
   "outputs": [
    {
     "name": "stdout",
     "output_type": "stream",
     "text": [
      "0\n"
     ]
    }
   ],
   "source": [
    "# Check whether a list is empty or not\n",
    "\n",
    "bool([1,2,3])\n",
    "\n",
    "print(len([]))"
   ]
  },
  {
   "cell_type": "code",
   "execution_count": 21,
   "id": "f382fb21",
   "metadata": {},
   "outputs": [
    {
     "name": "stdout",
     "output_type": "stream",
     "text": [
      "List contain some information\n"
     ]
    }
   ],
   "source": [
    "a=[0,1,2,3]\n",
    "\n",
    "if bool(a):\n",
    "    print(\"List contain some information\")\n",
    "    \n",
    "else:\n",
    "    print(\"List is empty\")"
   ]
  },
  {
   "cell_type": "code",
   "execution_count": 24,
   "id": "8827c7ca",
   "metadata": {},
   "outputs": [
    {
     "name": "stdout",
     "output_type": "stream",
     "text": [
      "List contain some information\n"
     ]
    }
   ],
   "source": [
    "b=[1,2,3]\n",
    "\n",
    "if len(b)==0:print(\"List is empty...\")\n",
    "    \n",
    "else:print(\"List contain some information\")\n",
    "    \n",
    "    "
   ]
  },
  {
   "cell_type": "markdown",
   "id": "69255d5c",
   "metadata": {},
   "source": [
    "# Looping Statements :"
   ]
  },
  {
   "cell_type": "markdown",
   "id": "df94a860",
   "metadata": {},
   "source": [
    ">A statement is executed only once from top to bottom. For example, if is a statement that is executed by Python interpreter only once. But a loop is useful to execute repeatedly. For example, while and for are loops in Python. They are useful to execute a group of statements repeatedly several times.\n",
    "\n",
    "we have 2 looping statements :\n",
    "\n",
    "1. while loop\n",
    "2. for loop\n",
    "\n"
   ]
  },
  {
   "cell_type": "markdown",
   "id": "7b311368",
   "metadata": {},
   "source": [
    "# While loop:"
   ]
  },
  {
   "cell_type": "markdown",
   "id": "920184b9",
   "metadata": {},
   "source": [
    ">The while loop is useful to execute a group of statements several times repeatedly depending on whether a condition is True or False. The syntax or format of while loop is:\n",
    "\n"
   ]
  },
  {
   "cell_type": "code",
   "execution_count": null,
   "id": "735f23f3",
   "metadata": {},
   "outputs": [],
   "source": [
    "\"\"\"\n",
    "\n",
    "while condition: \n",
    "    statements\n",
    "\n",
    "\"\"\"\n",
    "\n",
    "OR\n",
    "\n",
    "\"\"\"\n",
    "Syn:-\n",
    "\n",
    "initialization of var ex,i         # 1\n",
    "while(condition):                  # 2\n",
    "    statements1\n",
    "    statements2\n",
    "    inc/dic  ex,i==1 or i-=1       # 3\n",
    "\n",
    "\"\"\""
   ]
  },
  {
   "cell_type": "markdown",
   "id": "359d574b",
   "metadata": {},
   "source": [
    ">Here, 'statements' represents one statement or a suite of statements. Python interpreter first checks the condition. If the condition is True, then it will execute the statements written after colon (:). After executing the statements, it will go back and check the condition again. If the condition is again found to be True, then it will again execute the statements. Then it will go back to check the condition once again. In this way, as long as the condition is True, Python interpreter executes the statements again and again. Once the condition is found to be False, then it will come out of the while loop."
   ]
  },
  {
   "cell_type": "code",
   "execution_count": 6,
   "id": "cdd24afa",
   "metadata": {},
   "outputs": [
    {
     "name": "stdout",
     "output_type": "stream",
     "text": [
      "hi...\n",
      "hi...\n",
      "hi...\n",
      "hi...\n",
      "hi...\n",
      "hi...\n",
      "hi...\n",
      "hi...\n",
      "hi...\n",
      "hi...\n",
      "end\n"
     ]
    }
   ],
   "source": [
    "# Program to print the \"hi...\" for 100 times by using \"while\"\n",
    "\n",
    "i=1                    # 1. initialization of the uterable variable\n",
    "while(i<=10):           # 2. checking for the condition\n",
    "    print(\"hi...\")     # statement inside the while loop\n",
    "    i+=1               # 3. increamentation of the variable\n",
    "    \n",
    "print(\"end\")"
   ]
  },
  {
   "cell_type": "code",
   "execution_count": 8,
   "id": "f60bd30b",
   "metadata": {},
   "outputs": [
    {
     "name": "stdout",
     "output_type": "stream",
     "text": [
      "1\n",
      "2\n",
      "3\n",
      "4\n",
      "5\n",
      "6\n",
      "7\n",
      "8\n",
      "9\n",
      "10\n"
     ]
    }
   ],
   "source": [
    "# program to print the numbers from 1 t0 100 by using \"while\"\n",
    "\n",
    "i=1 \n",
    "while(i<=10):  \n",
    "    print(i)\n",
    "    i+=1"
   ]
  },
  {
   "cell_type": "code",
   "execution_count": 9,
   "id": "df0a1c09",
   "metadata": {},
   "outputs": [
    {
     "name": "stdout",
     "output_type": "stream",
     "text": [
      "1\n",
      "end\n",
      "2\n",
      "end\n",
      "3\n",
      "end\n",
      "4\n",
      "end\n",
      "5\n",
      "end\n",
      "Success\n"
     ]
    }
   ],
   "source": [
    "i=1\n",
    "while(i<=5):     \n",
    "    print(i)\n",
    "    i+=1         \n",
    "    print(\"end\")   # Statement inside the \"while\"\n",
    "print(\"Success\")   # Statement outside the \"while\""
   ]
  },
  {
   "cell_type": "code",
   "execution_count": 10,
   "id": "213d8713",
   "metadata": {},
   "outputs": [
    {
     "name": "stdout",
     "output_type": "stream",
     "text": [
      "Python\n",
      "Python\n",
      "Python\n",
      "Python\n",
      "Python\n",
      "Python\n",
      "Python\n",
      "Python\n",
      "Python\n",
      "Python\n",
      "Python\n",
      "end\n"
     ]
    }
   ],
   "source": [
    "i=0\n",
    "while(i<=10):  \n",
    "    print(\"Python\")   # inside the \"while\"\n",
    "    i+=1 \n",
    "    \n",
    "print(\"end\")          # outside the \"while\""
   ]
  },
  {
   "cell_type": "markdown",
   "id": "c0e5819d",
   "metadata": {},
   "source": [
    "# For Loop :"
   ]
  },
  {
   "cell_type": "markdown",
   "id": "9bef0e59",
   "metadata": {},
   "source": [
    ">The for loop is useful to iterate over the elements of a sequence. It means, the for loop can be used to execute a group of statements repeatedly depending upon the number of elements in the sequence. The for loop can work with sequence like string, list, tuple, range etc. The syntax of the for loop is given below:"
   ]
  },
  {
   "cell_type": "code",
   "execution_count": null,
   "id": "ebbdf777",
   "metadata": {},
   "outputs": [],
   "source": [
    "\"\"\"\n",
    "for variable_name in sequence :\n",
    "    statement\n",
    "    \n",
    "\"\"\""
   ]
  },
  {
   "cell_type": "code",
   "execution_count": 2,
   "id": "913fca69",
   "metadata": {},
   "outputs": [
    {
     "name": "stdout",
     "output_type": "stream",
     "text": [
      "b\n",
      "a\n",
      "n\n",
      "a\n",
      "n\n",
      "a\n"
     ]
    }
   ],
   "source": [
    "# strings are iterable objects, they contain a sequence of characters:\n",
    "for i in \"banana\":\n",
    "    print(i)"
   ]
  },
  {
   "cell_type": "code",
   "execution_count": 3,
   "id": "8058b661",
   "metadata": {},
   "outputs": [
    {
     "name": "stdout",
     "output_type": "stream",
     "text": [
      "dog\n",
      "cat\n",
      "monkey\n"
     ]
    }
   ],
   "source": [
    "animal = [\"dog\", \"cat\", \"monkey\"] \n",
    "for i in animal: #loop taking one by one value in the list \n",
    "    print(i) "
   ]
  },
  {
   "cell_type": "markdown",
   "id": "7941db09",
   "metadata": {},
   "source": [
    "### range ()\n"
   ]
  },
  {
   "cell_type": "markdown",
   "id": "ca9b8981",
   "metadata": {},
   "source": [
    "range() allows the user to generate a series of numbers within a given range. Depending on how many arguments the user is passing to the function, the user can decide where that series of numbers will begin and end, as well as how big the difference will be between one number and the next. Python range() function takes can be initialized in 3 ways.\n",
    "\n",
    "range (stop) takes one argument.\n",
    "range (start, stop) takes two arguments.\n",
    "range (start, stop, step) takes three arguments."
   ]
  },
  {
   "cell_type": "markdown",
   "id": "e55a0083",
   "metadata": {},
   "source": [
    "### range (stop)"
   ]
  },
  {
   "cell_type": "markdown",
   "id": "fe3aca7e",
   "metadata": {},
   "source": [
    "To loop through a set of code a specified number of times, we can use the range() function,\n",
    "The range() function returns a sequence of numbers, starting from 0 by default, and increments by 1 (by default), and ends at a specified number."
   ]
  },
  {
   "cell_type": "code",
   "execution_count": 5,
   "id": "cd01fb28",
   "metadata": {},
   "outputs": [
    {
     "name": "stdout",
     "output_type": "stream",
     "text": [
      "0\n",
      "1\n",
      "2\n",
      "3\n",
      "4\n",
      "5\n"
     ]
    }
   ],
   "source": [
    "for x in range(6): #here range is 6 then its print 6 digit start with 0 therefor its print 0 1 2 3 4 5 \n",
    "    print(x)\n"
   ]
  },
  {
   "cell_type": "markdown",
   "id": "0f4715b6",
   "metadata": {},
   "source": [
    "Note that range(6) is not the values of 0 to 6, but the values 0 to 5."
   ]
  },
  {
   "cell_type": "markdown",
   "id": "b5bdf952",
   "metadata": {},
   "source": [
    "### range (start, stop)"
   ]
  },
  {
   "cell_type": "markdown",
   "id": "2b1ca548",
   "metadata": {},
   "source": [
    "When the user call range() with two arguments, the user gets to decide not only where the series of numbers stops but also where it starts, so the user don’t have to start at 0 all the time. Users can use range() to generate a series of numbers from X to Y using range(X, Y)."
   ]
  },
  {
   "cell_type": "code",
   "execution_count": 7,
   "id": "e22a0eee",
   "metadata": {},
   "outputs": [
    {
     "name": "stdout",
     "output_type": "stream",
     "text": [
      "5 6 7 8 9 10 11 12 13 14 15 16 17 18 19 "
     ]
    }
   ],
   "source": [
    "for i in range(5, 20):\n",
    "    print(i, end=\" \") "
   ]
  },
  {
   "cell_type": "markdown",
   "id": "a84b24cc",
   "metadata": {},
   "source": [
    "### range (start, stop, step)"
   ]
  },
  {
   "cell_type": "markdown",
   "id": "fcb2e53c",
   "metadata": {},
   "source": [
    "The range() function defaults to increment the sequence by 1, however it is possible to specify the increment value by adding a third parameter: range(2, 30, 3):"
   ]
  },
  {
   "cell_type": "code",
   "execution_count": 9,
   "id": "2e110bbe",
   "metadata": {},
   "outputs": [
    {
     "name": "stdout",
     "output_type": "stream",
     "text": [
      "2\n",
      "5\n",
      "8\n",
      "11\n",
      "14\n",
      "17\n",
      "20\n",
      "23\n",
      "26\n",
      "29\n"
     ]
    }
   ],
   "source": [
    "for x in range(2, 30, 3): #Increment the sequence with 3 (default is 1):\n",
    "    print(x)"
   ]
  },
  {
   "cell_type": "code",
   "execution_count": null,
   "id": "f259f6c6",
   "metadata": {},
   "outputs": [],
   "source": []
  }
 ],
 "metadata": {
  "kernelspec": {
   "display_name": "Python 3 (ipykernel)",
   "language": "python",
   "name": "python3"
  },
  "language_info": {
   "codemirror_mode": {
    "name": "ipython",
    "version": 3
   },
   "file_extension": ".py",
   "mimetype": "text/x-python",
   "name": "python",
   "nbconvert_exporter": "python",
   "pygments_lexer": "ipython3",
   "version": "3.10.5"
  }
 },
 "nbformat": 4,
 "nbformat_minor": 5
}

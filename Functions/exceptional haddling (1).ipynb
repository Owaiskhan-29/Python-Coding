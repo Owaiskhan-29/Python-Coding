{
 "cells": [
  {
   "cell_type": "markdown",
   "id": "5a839174",
   "metadata": {},
   "source": [
    "# Exceptional Handling"
   ]
  },
  {
   "cell_type": "markdown",
   "id": "834cdbe7",
   "metadata": {},
   "source": [
    "Exception : An unwanted and unexpected event that disturb the normal flow of the of the program execution is called \"Exception\"\n",
    "Exception Handling : providing the alternalive way of the smooth execution of the program.\n",
    "\n",
    "If None of the methods or functions or lines are handled the exception,\n",
    "The python interpreter invokes the \"Default Exceptional Handler\" to prints the corresponding informationa on the consol.\n",
    "\n",
    "Trackback Information :-\n",
    "\n",
    "1) The lines at which the Exception raised\n",
    "\n",
    "2) Exception Name\n",
    "\n",
    "3) Exception Description\n"
   ]
  },
  {
   "cell_type": "code",
   "execution_count": 3,
   "id": "c667fc49",
   "metadata": {
    "scrolled": true
   },
   "outputs": [
    {
     "name": "stdout",
     "output_type": "stream",
     "text": [
      "Hi..\n"
     ]
    },
    {
     "ename": "ZeroDivisionError",
     "evalue": "division by zero",
     "output_type": "error",
     "traceback": [
      "\u001b[1;31m---------------------------------------------------------------------------\u001b[0m",
      "\u001b[1;31mZeroDivisionError\u001b[0m                         Traceback (most recent call last)",
      "\u001b[1;32mC:\\Users\\SHAILA~1\\AppData\\Local\\Temp/ipykernel_2604/3196658459.py\u001b[0m in \u001b[0;36m<module>\u001b[1;34m\u001b[0m\n\u001b[0;32m      1\u001b[0m \u001b[1;31m# Program_1\u001b[0m\u001b[1;33m\u001b[0m\u001b[1;33m\u001b[0m\u001b[0m\n\u001b[0;32m      2\u001b[0m \u001b[0mprint\u001b[0m\u001b[1;33m(\u001b[0m\u001b[1;34m\"Hi..\"\u001b[0m\u001b[1;33m)\u001b[0m\u001b[1;33m\u001b[0m\u001b[1;33m\u001b[0m\u001b[0m\n\u001b[1;32m----> 3\u001b[1;33m \u001b[0mprint\u001b[0m\u001b[1;33m(\u001b[0m\u001b[1;36m10\u001b[0m\u001b[1;33m/\u001b[0m\u001b[1;36m0\u001b[0m\u001b[1;33m)\u001b[0m  \u001b[1;31m# this statement raise an error\u001b[0m\u001b[1;33m\u001b[0m\u001b[1;33m\u001b[0m\u001b[0m\n\u001b[0m\u001b[0;32m      4\u001b[0m \u001b[0mprint\u001b[0m\u001b[1;33m(\u001b[0m\u001b[1;34m\"hello....\"\u001b[0m\u001b[1;33m)\u001b[0m\u001b[1;33m\u001b[0m\u001b[1;33m\u001b[0m\u001b[0m\n",
      "\u001b[1;31mZeroDivisionError\u001b[0m: division by zero"
     ]
    }
   ],
   "source": [
    "# Program_1\n",
    "print(\"Hi..\")\n",
    "print(10/0)  # this statement raise an error\n",
    "print(\"hello....\")"
   ]
  },
  {
   "cell_type": "code",
   "execution_count": 18,
   "id": "d4841ea1",
   "metadata": {},
   "outputs": [
    {
     "name": "stdout",
     "output_type": "stream",
     "text": [
      "Lets do the division........\n",
      "You are given '0' for the b, you can not divide a number with zwro\n",
      "END!!!!!!!!!!!!!!!!\n"
     ]
    }
   ],
   "source": [
    "a,b=12,0\n",
    "print(\"Lets do the division........\")\n",
    "def f():\n",
    "    print(a/b)\n",
    "    \n",
    "try:\n",
    "    f()\n",
    "except:\n",
    "    print(\"You are given '0' for the b, you can not divide a number with zwro\")\n",
    "\n",
    "    "
   ]
  },
  {
   "cell_type": "code",
   "execution_count": 27,
   "id": "59a77caa",
   "metadata": {},
   "outputs": [
    {
     "name": "stdout",
     "output_type": "stream",
     "text": [
      "name 'x' is not defined\n"
     ]
    }
   ],
   "source": [
    "a,b=12,0\n",
    "def f():\n",
    "    print(a/b)\n",
    "    \n",
    "try:\n",
    "    print(x)\n",
    "    f()\n",
    "    print(x)\n",
    "\n",
    "except NameError as n:\n",
    "    print(n)\n",
    "    \n",
    "except Exception as e:\n",
    "    print(e)"
   ]
  },
  {
   "cell_type": "code",
   "execution_count": 8,
   "id": "78d74ffa",
   "metadata": {},
   "outputs": [
    {
     "name": "stdout",
     "output_type": "stream",
     "text": [
      "handling the eror : Method-1 :-\n",
      "0.8333333333333334\n"
     ]
    }
   ],
   "source": [
    "# Program_2\n",
    "\n",
    "\"\"\"\n",
    "so, this is the way to hadle the above error\n",
    "\"\"\"\n",
    "\n",
    "#print(\"handling the eror : Method-1 :-\")\n",
    "try:\n",
    "    print(10/0)  # raise exception\n",
    "except:\n",
    "    print(\"we are not able to divide a number by zero.... \")\n",
    "    \n",
    "    \n",
    "# print(\"handling the eror : Method-2 :-\")\n",
    "# try:\n",
    "#     print('Hi....')\n",
    "#     print(10/0)  # raise exception\n",
    "#     print(\"Hello.....\")\n",
    "# except Exception as e:\n",
    "#     print(e)  # this line gives the Exception Description as output. \n",
    "\n",
    "    "
   ]
  },
  {
   "cell_type": "code",
   "execution_count": 24,
   "id": "e0d9e940",
   "metadata": {
    "scrolled": true
   },
   "outputs": [
    {
     "name": "stdout",
     "output_type": "stream",
     "text": [
      "The value of the 2/1 is 2.0\n",
      "========================================\n",
      "The value of the 2/2 is 1.0\n",
      "========================================\n",
      "The value of the 2/3 is 0.6666666666666666\n",
      "========================================\n",
      "We cannot able to peform the 2/a. It raise an Error. And, the error is <class 'ValueError'>\n",
      "========================================\n",
      "We cannot able to peform the 2/0. It raise an Error. And, the error is <class 'ZeroDivisionError'>\n",
      "========================================\n",
      "We cannot able to peform the 2/[1, 2, 3]. It raise an Error. And, the error is <class 'TypeError'>\n",
      "========================================\n"
     ]
    }
   ],
   "source": [
    "import sys\n",
    "def myfunction(n):  # \n",
    "    example_list=[1,2,\"3\",'a',0,[1,2,3]]\n",
    "    for i in example_list:\n",
    "        try:\n",
    "            print(\"The value of the {}/{} is {}\".format(n,i,n/int(i)))\n",
    "        except:\n",
    "            print(\"We cannot able to peform the {}/{}. It raise an Error. And, the error is {}\".format(n,i,sys.exc_info()[0]))\n",
    "        print(\"========================================\")\n",
    "\n",
    "myfunction(2)"
   ]
  },
  {
   "cell_type": "code",
   "execution_count": 7,
   "id": "b668446d",
   "metadata": {},
   "outputs": [
    {
     "name": "stdout",
     "output_type": "stream",
     "text": [
      "The value of the 2/1 is 2.0\n",
      "========================================\n",
      "The value of the 2/2 is 1.0\n",
      "========================================\n",
      "invalid literal for int() with base 10: 'a'\n",
      "========================================\n",
      "division by zero\n",
      "========================================\n",
      "int() argument must be a string, a bytes-like object or a number, not 'list'\n",
      "========================================\n",
      "invalid literal for int() with base 10: 'five'\n",
      "========================================\n",
      "The value of the 2/5.8 is 0.4\n",
      "========================================\n"
     ]
    }
   ],
   "source": [
    "def myfunction(n):  \n",
    "    example_list=[1,2,'a',0,[1,2,3],\"five\",5.8]\n",
    "    for i in example_list:\n",
    "        try:\n",
    "            print(\"The value of the {}/{} is {}\".format(n,i,n/int(i)))\n",
    "        except Exception as e:\n",
    "            print(e)\n",
    "        print(\"========================================\")\n",
    "\n",
    "myfunction(2)"
   ]
  },
  {
   "cell_type": "code",
   "execution_count": 29,
   "id": "e4f63ba0",
   "metadata": {},
   "outputs": [
    {
     "name": "stdout",
     "output_type": "stream",
     "text": [
      "2.0\n",
      "no exception\n",
      "finally\n"
     ]
    }
   ],
   "source": [
    "# Program_3\n",
    "\n",
    "\"\"\"\n",
    "we can use the \"try\" block through the \"except\",\"else\" and \"finally\"\n",
    "\n",
    "try : in try block, we write risky(block lets you test a block of code for errors.)\n",
    "except : in except block, we handle the error, means we provide the information about the error.\n",
    "else : if there is no error then statements inside the else block execures.\n",
    "finally : this block execute always. no matter whether there is an error or not.\n",
    "\n",
    "\"\"\"\n",
    "\n",
    "class test():\n",
    "    def maths(self):\n",
    "        try:\n",
    "            self.score()\n",
    "        except ZeroDivisionError as z :\n",
    "            print(z)\n",
    "        else:\n",
    "            print(\"no exception\")\n",
    "        finally:\n",
    "            print(\"finally\")\n",
    "    def score(self):\n",
    "        print(100/50)\n",
    "t=test()\n",
    "t.maths()\n"
   ]
  },
  {
   "cell_type": "code",
   "execution_count": 30,
   "id": "dae6613b",
   "metadata": {},
   "outputs": [
    {
     "name": "stdout",
     "output_type": "stream",
     "text": [
      "2.0\n",
      "no exception\n",
      "finally\n"
     ]
    }
   ],
   "source": [
    "class test():\n",
    "    def maths(self):\n",
    "        try:\n",
    "            print(10/5)\n",
    "        except ZeroDivisionError as z :\n",
    "            print(z)\n",
    "        else:\n",
    "            print(\"no exception\")\n",
    "        finally:\n",
    "            print(\"finally\")\n",
    "\n",
    "t=test()\n",
    "t.maths()"
   ]
  },
  {
   "cell_type": "code",
   "execution_count": 9,
   "id": "00d4294d",
   "metadata": {},
   "outputs": [
    {
     "ename": "SyntaxError",
     "evalue": "invalid syntax (Temp/ipykernel_1736/436830896.py, line 3)",
     "output_type": "error",
     "traceback": [
      "\u001b[1;36m  File \u001b[1;32m\"C:\\Users\\SHAILA~1\\AppData\\Local\\Temp/ipykernel_1736/436830896.py\"\u001b[1;36m, line \u001b[1;32m3\u001b[0m\n\u001b[1;33m    try:\u001b[0m\n\u001b[1;37m    ^\u001b[0m\n\u001b[1;31mSyntaxError\u001b[0m\u001b[1;31m:\u001b[0m invalid syntax\n"
     ]
    }
   ],
   "source": [
    "def f(num):\n",
    "    print(int(num)\n",
    "try:\n",
    "    print(f(\"Five\"))\n",
    "except Exception as e:\n",
    "    print(e)"
   ]
  },
  {
   "cell_type": "code",
   "execution_count": 10,
   "id": "a439b92d",
   "metadata": {},
   "outputs": [
    {
     "name": "stdout",
     "output_type": "stream",
     "text": [
      "<function a at 0x000000E3E5ECC3A0>\n"
     ]
    }
   ],
   "source": [
    "# Raising the name error and handling it\n",
    "\n",
    "try:  # This is the block that Where we put the risk code\n",
    "    print(a) # we are trying to print the undefind variable \"a\"\n",
    "except Exception as e: # If occure in the try block, then this block gives the information about the error\n",
    "    print(e)"
   ]
  },
  {
   "cell_type": "code",
   "execution_count": 3,
   "id": "9a547346",
   "metadata": {},
   "outputs": [
    {
     "name": "stdout",
     "output_type": "stream",
     "text": [
      "name 'x' is not defined\n",
      "None\n"
     ]
    }
   ],
   "source": [
    "def a():\n",
    "    print(1/0)\n",
    "def b():\n",
    "    print(x)\n",
    "    print(a())\n",
    "def c():\n",
    "    try:\n",
    "        print(b())\n",
    "    except Exception as e:\n",
    "        print(e)\n",
    "print(c())"
   ]
  },
  {
   "cell_type": "code",
   "execution_count": 5,
   "id": "f33cb132",
   "metadata": {},
   "outputs": [
    {
     "ename": "SyntaxError",
     "evalue": "default 'except:' must be last (Temp/ipykernel_4968/4194824549.py, line 2)",
     "output_type": "error",
     "traceback": [
      "\u001b[1;36m  File \u001b[1;32m\"C:\\Users\\SHAILA~1\\AppData\\Local\\Temp/ipykernel_4968/4194824549.py\"\u001b[1;36m, line \u001b[1;32m2\u001b[0m\n\u001b[1;33m    print(x)\u001b[0m\n\u001b[1;37m    ^\u001b[0m\n\u001b[1;31mSyntaxError\u001b[0m\u001b[1;31m:\u001b[0m default 'except:' must be last\n"
     ]
    }
   ],
   "source": [
    "try:\n",
    "    print(x)\n",
    "except:\n",
    "    print(\"x is not defind\")\n",
    "except:\n",
    "    print(\"something went wrong.......\")"
   ]
  },
  {
   "cell_type": "code",
   "execution_count": 4,
   "id": "0631f483",
   "metadata": {},
   "outputs": [
    {
     "ename": "SyntaxError",
     "evalue": "invalid syntax (Temp/ipykernel_4968/1394618511.py, line 3)",
     "output_type": "error",
     "traceback": [
      "\u001b[1;36m  File \u001b[1;32m\"C:\\Users\\SHAILA~1\\AppData\\Local\\Temp/ipykernel_4968/1394618511.py\"\u001b[1;36m, line \u001b[1;32m3\u001b[0m\n\u001b[1;33m    try:\u001b[0m\n\u001b[1;37m    ^\u001b[0m\n\u001b[1;31mSyntaxError\u001b[0m\u001b[1;31m:\u001b[0m invalid syntax\n"
     ]
    }
   ],
   "source": [
    "try:\n",
    "    print(x)\n",
    "except NameError:\n",
    "    print(\"x is not defind\")\n",
    "except:\n",
    "    print(\"somrthing went wrong.......\")"
   ]
  },
  {
   "cell_type": "code",
   "execution_count": 6,
   "id": "a6c482a0",
   "metadata": {},
   "outputs": [
    {
     "name": "stdout",
     "output_type": "stream",
     "text": [
      " file not find\n"
     ]
    }
   ],
   "source": [
    "try:\n",
    "    f=open(\"myfile.txt\")\n",
    "except:\n",
    "    print(\" file not find\")\n"
   ]
  },
  {
   "cell_type": "code",
   "execution_count": 4,
   "id": "f227b00c",
   "metadata": {},
   "outputs": [
    {
     "ename": "ZeroDivisionError",
     "evalue": "division by zero",
     "output_type": "error",
     "traceback": [
      "\u001b[1;31m---------------------------------------------------------------------------\u001b[0m",
      "\u001b[1;31mZeroDivisionError\u001b[0m                         Traceback (most recent call last)",
      "\u001b[1;32mC:\\Users\\SHAILA~1\\AppData\\Local\\Temp/ipykernel_3052/3682891105.py\u001b[0m in \u001b[0;36m<module>\u001b[1;34m\u001b[0m\n\u001b[0;32m     17\u001b[0m \u001b[1;33m\u001b[0m\u001b[0m\n\u001b[0;32m     18\u001b[0m \u001b[0mt\u001b[0m\u001b[1;33m=\u001b[0m\u001b[0mTest\u001b[0m\u001b[1;33m(\u001b[0m\u001b[1;33m)\u001b[0m\u001b[1;33m\u001b[0m\u001b[1;33m\u001b[0m\u001b[0m\n\u001b[1;32m---> 19\u001b[1;33m \u001b[0mt\u001b[0m\u001b[1;33m.\u001b[0m\u001b[0mstuff\u001b[0m\u001b[1;33m(\u001b[0m\u001b[1;33m)\u001b[0m\u001b[1;33m\u001b[0m\u001b[1;33m\u001b[0m\u001b[0m\n\u001b[0m\u001b[0;32m     20\u001b[0m \u001b[1;33m\u001b[0m\u001b[0m\n",
      "\u001b[1;32mC:\\Users\\SHAILA~1\\AppData\\Local\\Temp/ipykernel_3052/3682891105.py\u001b[0m in \u001b[0;36mstuff\u001b[1;34m(self)\u001b[0m\n\u001b[0;32m      8\u001b[0m \u001b[1;32mclass\u001b[0m \u001b[0mTest\u001b[0m\u001b[1;33m:\u001b[0m\u001b[1;33m\u001b[0m\u001b[1;33m\u001b[0m\u001b[0m\n\u001b[0;32m      9\u001b[0m     \u001b[1;32mdef\u001b[0m \u001b[0mstuff\u001b[0m\u001b[1;33m(\u001b[0m\u001b[0mself\u001b[0m\u001b[1;33m)\u001b[0m\u001b[1;33m:\u001b[0m\u001b[1;33m\u001b[0m\u001b[1;33m\u001b[0m\u001b[0m\n\u001b[1;32m---> 10\u001b[1;33m         \u001b[0mself\u001b[0m\u001b[1;33m.\u001b[0m\u001b[0mdoStuff\u001b[0m\u001b[1;33m(\u001b[0m\u001b[1;33m)\u001b[0m  \u001b[1;31m# ccalling the instance method \"doStuff()\"\u001b[0m\u001b[1;33m\u001b[0m\u001b[1;33m\u001b[0m\u001b[0m\n\u001b[0m\u001b[0;32m     11\u001b[0m \u001b[1;33m\u001b[0m\u001b[0m\n\u001b[0;32m     12\u001b[0m     \u001b[1;32mdef\u001b[0m \u001b[0mdoStuff\u001b[0m\u001b[1;33m(\u001b[0m\u001b[0mself\u001b[0m\u001b[1;33m)\u001b[0m\u001b[1;33m:\u001b[0m\u001b[1;33m\u001b[0m\u001b[1;33m\u001b[0m\u001b[0m\n",
      "\u001b[1;32mC:\\Users\\SHAILA~1\\AppData\\Local\\Temp/ipykernel_3052/3682891105.py\u001b[0m in \u001b[0;36mdoStuff\u001b[1;34m(self)\u001b[0m\n\u001b[0;32m     11\u001b[0m \u001b[1;33m\u001b[0m\u001b[0m\n\u001b[0;32m     12\u001b[0m     \u001b[1;32mdef\u001b[0m \u001b[0mdoStuff\u001b[0m\u001b[1;33m(\u001b[0m\u001b[0mself\u001b[0m\u001b[1;33m)\u001b[0m\u001b[1;33m:\u001b[0m\u001b[1;33m\u001b[0m\u001b[1;33m\u001b[0m\u001b[0m\n\u001b[1;32m---> 13\u001b[1;33m         \u001b[0mself\u001b[0m\u001b[1;33m.\u001b[0m\u001b[0mdoMoreStuff\u001b[0m\u001b[1;33m(\u001b[0m\u001b[1;33m)\u001b[0m   \u001b[1;31m# ccalling the instance method \"doMoreStuff()\"\u001b[0m\u001b[1;33m\u001b[0m\u001b[1;33m\u001b[0m\u001b[0m\n\u001b[0m\u001b[0;32m     14\u001b[0m \u001b[1;33m\u001b[0m\u001b[0m\n\u001b[0;32m     15\u001b[0m     \u001b[1;32mdef\u001b[0m \u001b[0mdoMoreStuff\u001b[0m\u001b[1;33m(\u001b[0m\u001b[0mself\u001b[0m\u001b[1;33m)\u001b[0m\u001b[1;33m:\u001b[0m\u001b[1;33m\u001b[0m\u001b[1;33m\u001b[0m\u001b[0m\n",
      "\u001b[1;32mC:\\Users\\SHAILA~1\\AppData\\Local\\Temp/ipykernel_3052/3682891105.py\u001b[0m in \u001b[0;36mdoMoreStuff\u001b[1;34m(self)\u001b[0m\n\u001b[0;32m     14\u001b[0m \u001b[1;33m\u001b[0m\u001b[0m\n\u001b[0;32m     15\u001b[0m     \u001b[1;32mdef\u001b[0m \u001b[0mdoMoreStuff\u001b[0m\u001b[1;33m(\u001b[0m\u001b[0mself\u001b[0m\u001b[1;33m)\u001b[0m\u001b[1;33m:\u001b[0m\u001b[1;33m\u001b[0m\u001b[1;33m\u001b[0m\u001b[0m\n\u001b[1;32m---> 16\u001b[1;33m         \u001b[0mprint\u001b[0m\u001b[1;33m(\u001b[0m\u001b[1;36m2\u001b[0m\u001b[1;33m/\u001b[0m\u001b[1;36m0\u001b[0m\u001b[1;33m)\u001b[0m      \u001b[1;31m# this line raise an error\u001b[0m\u001b[1;33m\u001b[0m\u001b[1;33m\u001b[0m\u001b[0m\n\u001b[0m\u001b[0;32m     17\u001b[0m \u001b[1;33m\u001b[0m\u001b[0m\n\u001b[0;32m     18\u001b[0m \u001b[0mt\u001b[0m\u001b[1;33m=\u001b[0m\u001b[0mTest\u001b[0m\u001b[1;33m(\u001b[0m\u001b[1;33m)\u001b[0m\u001b[1;33m\u001b[0m\u001b[1;33m\u001b[0m\u001b[0m\n",
      "\u001b[1;31mZeroDivisionError\u001b[0m: division by zero"
     ]
    }
   ],
   "source": [
    "# Program_4\n",
    "\n",
    "\"\"\"\n",
    "raising exception \n",
    "\n",
    "\"\"\"\n",
    "\n",
    "class Test:\n",
    "    def stuff(self):\n",
    "        self.doStuff()  # ccalling the instance method \"doStuff()\"\n",
    "        \n",
    "    def doStuff(self):\n",
    "        self.doMoreStuff()   # ccalling the instance method \"doMoreStuff()\"\n",
    "        \n",
    "    def doMoreStuff(self):\n",
    "        print(2/0)      # this line raise an error\n",
    "        \n",
    "t=Test()\n",
    "t.stuff()\n",
    "        "
   ]
  },
  {
   "cell_type": "code",
   "execution_count": 5,
   "id": "e25ca392",
   "metadata": {},
   "outputs": [
    {
     "name": "stdout",
     "output_type": "stream",
     "text": [
      "error\n"
     ]
    }
   ],
   "source": [
    "# Program_5\n",
    "\n",
    "# Handling the error raised in the above program ( Program_4)\n",
    "\n",
    "class Test:\n",
    "    def stuff(self):\n",
    "        self.doStuff()\n",
    "        \n",
    "    def doStuff(self):\n",
    "        self.doMoreStuff()\n",
    "        \n",
    "    def doMoreStuff(self):\n",
    "        try:\n",
    "            print(2/0)\n",
    "        except:\n",
    "            print(\"error\")\n",
    "t=Test()\n",
    "t.stuff()"
   ]
  },
  {
   "cell_type": "code",
   "execution_count": 3,
   "id": "715502b1",
   "metadata": {},
   "outputs": [
    {
     "name": "stdout",
     "output_type": "stream",
     "text": [
      "error\n"
     ]
    }
   ],
   "source": [
    "# another way of handling the error raised in the program_4\n",
    "\n",
    "class Test:\n",
    "    def stuff(self):\n",
    "        self.doStuff()\n",
    "        \n",
    "    def doStuff(self):\n",
    "        try:\n",
    "            self.doMoreStuff()\n",
    "        except:\n",
    "            print(\"error\")\n",
    "                \n",
    "    def doMoreStuff(self):\n",
    "        print(2/0)\n",
    "t=Test()\n",
    "t.stuff()"
   ]
  },
  {
   "cell_type": "markdown",
   "id": "61460fde",
   "metadata": {},
   "source": [
    "#### Handling Syntax Error : -"
   ]
  },
  {
   "cell_type": "code",
   "execution_count": 12,
   "id": "d4a5288d",
   "metadata": {},
   "outputs": [
    {
     "ename": "SyntaxError",
     "evalue": "unexpected EOF while parsing (Temp/ipykernel_364/2414768957.py, line 2)",
     "output_type": "error",
     "traceback": [
      "\u001b[1;36m  File \u001b[1;32m\"C:\\Users\\SHAILA~1\\AppData\\Local\\Temp/ipykernel_364/2414768957.py\"\u001b[1;36m, line \u001b[1;32m2\u001b[0m\n\u001b[1;33m    a,b,c=[int(x) for x in input(\"enter the date :\").split()]\u001b[0m\n\u001b[1;37m                                                             ^\u001b[0m\n\u001b[1;31mSyntaxError\u001b[0m\u001b[1;31m:\u001b[0m unexpected EOF while parsing\n"
     ]
    }
   ],
   "source": [
    "try:\n",
    "    a,b,c=[int(x) for x in input(\"enter the date :\").split()]"
   ]
  },
  {
   "cell_type": "markdown",
   "id": "a438fa76",
   "metadata": {},
   "source": [
    "# Customized Error"
   ]
  },
  {
   "cell_type": "markdown",
   "id": "0d43f5d9",
   "metadata": {},
   "source": [
    "Errors that are raised by the use.\n",
    "\n",
    "Question :-\n",
    "     How to raise a customized Error ????\n",
    "     \n",
    "Answer :-\n",
    "     By inheritin the Eception class"
   ]
  },
  {
   "cell_type": "code",
   "execution_count": 11,
   "id": "31d787ee",
   "metadata": {},
   "outputs": [
    {
     "name": "stdout",
     "output_type": "stream",
     "text": [
      "sorry...!! Try to enter a valied code\n"
     ]
    },
    {
     "ename": "InvaliedCode",
     "evalue": "",
     "output_type": "error",
     "traceback": [
      "\u001b[1;31m---------------------------------------------------------------------------\u001b[0m",
      "\u001b[1;31mInvaliedCode\u001b[0m                              Traceback (most recent call last)",
      "\u001b[1;32mC:\\Users\\SHAILA~1\\AppData\\Local\\Temp/ipykernel_3052/1960501563.py\u001b[0m in \u001b[0;36m<module>\u001b[1;34m\u001b[0m\n\u001b[0;32m     12\u001b[0m \u001b[1;33m\u001b[0m\u001b[0m\n\u001b[0;32m     13\u001b[0m \u001b[0ma\u001b[0m\u001b[1;33m=\u001b[0m\u001b[0mA\u001b[0m\u001b[1;33m(\u001b[0m\u001b[1;33m)\u001b[0m\u001b[1;33m\u001b[0m\u001b[1;33m\u001b[0m\u001b[0m\n\u001b[1;32m---> 14\u001b[1;33m \u001b[0ma\u001b[0m\u001b[1;33m.\u001b[0m\u001b[0mf\u001b[0m\u001b[1;33m(\u001b[0m\u001b[1;36m123\u001b[0m\u001b[1;33m)\u001b[0m\u001b[1;33m\u001b[0m\u001b[1;33m\u001b[0m\u001b[0m\n\u001b[0m\u001b[0;32m     15\u001b[0m \u001b[1;33m\u001b[0m\u001b[0m\n",
      "\u001b[1;32mC:\\Users\\SHAILA~1\\AppData\\Local\\Temp/ipykernel_3052/1960501563.py\u001b[0m in \u001b[0;36mf\u001b[1;34m(self, code)\u001b[0m\n\u001b[0;32m      8\u001b[0m             \u001b[0mprint\u001b[0m\u001b[1;33m(\u001b[0m\u001b[1;34m\"ok!! continue the process\"\u001b[0m\u001b[1;33m)\u001b[0m\u001b[1;33m\u001b[0m\u001b[1;33m\u001b[0m\u001b[0m\n\u001b[0;32m      9\u001b[0m         \u001b[1;32melse\u001b[0m\u001b[1;33m:\u001b[0m\u001b[1;33m\u001b[0m\u001b[1;33m\u001b[0m\u001b[0m\n\u001b[1;32m---> 10\u001b[1;33m             \u001b[1;32mraise\u001b[0m \u001b[0mInvaliedCode\u001b[0m\u001b[1;33m\u001b[0m\u001b[1;33m\u001b[0m\u001b[0m\n\u001b[0m\u001b[0;32m     11\u001b[0m \u001b[1;33m\u001b[0m\u001b[0m\n\u001b[0;32m     12\u001b[0m \u001b[1;33m\u001b[0m\u001b[0m\n",
      "\u001b[1;31mInvaliedCode\u001b[0m: "
     ]
    }
   ],
   "source": [
    "class InvaliedCode(Exception):\n",
    "    def __init__(self):\n",
    "        print(\"sorry...!! Try to enter a valied code\")\n",
    "        \n",
    "class A:\n",
    "    def f(self,code):\n",
    "        if(code==1234):\n",
    "            print(\"ok!! continue the process\")\n",
    "        else:\n",
    "            raise InvaliedCode\n",
    "\n",
    "            \n",
    "a=A()\n",
    "a.f(123)\n",
    "        "
   ]
  },
  {
   "cell_type": "code",
   "execution_count": null,
   "id": "16d013b6",
   "metadata": {},
   "outputs": [],
   "source": []
  },
  {
   "cell_type": "code",
   "execution_count": 12,
   "id": "1f1e6e6e",
   "metadata": {},
   "outputs": [
    {
     "name": "stdout",
     "output_type": "stream",
     "text": [
      "inside the if block\n",
      "You are going to get zero division error\n"
     ]
    },
    {
     "ename": "Myexception",
     "evalue": "",
     "output_type": "error",
     "traceback": [
      "\u001b[1;31m---------------------------------------------------------------------------\u001b[0m",
      "\u001b[1;31mMyexception\u001b[0m                               Traceback (most recent call last)",
      "\u001b[1;32mC:\\Users\\SHAILA~1\\AppData\\Local\\Temp/ipykernel_3052/3482666384.py\u001b[0m in \u001b[0;36m<module>\u001b[1;34m\u001b[0m\n\u001b[0;32m     13\u001b[0m \u001b[1;32mclass\u001b[0m \u001b[0mB\u001b[0m\u001b[1;33m(\u001b[0m\u001b[0mA\u001b[0m\u001b[1;33m)\u001b[0m\u001b[1;33m:\u001b[0m\u001b[1;33m\u001b[0m\u001b[1;33m\u001b[0m\u001b[0m\n\u001b[0;32m     14\u001b[0m     \u001b[1;32mpass\u001b[0m\u001b[1;33m\u001b[0m\u001b[1;33m\u001b[0m\u001b[0m\n\u001b[1;32m---> 15\u001b[1;33m \u001b[0mB\u001b[0m\u001b[1;33m(\u001b[0m\u001b[1;36m1\u001b[0m\u001b[1;33m,\u001b[0m\u001b[1;36m0\u001b[0m\u001b[1;33m)\u001b[0m\u001b[1;33m\u001b[0m\u001b[1;33m\u001b[0m\u001b[0m\n\u001b[0m\u001b[0;32m     16\u001b[0m \u001b[1;33m\u001b[0m\u001b[0m\n",
      "\u001b[1;32mC:\\Users\\SHAILA~1\\AppData\\Local\\Temp/ipykernel_3052/3482666384.py\u001b[0m in \u001b[0;36m__init__\u001b[1;34m(selfr, a, b)\u001b[0m\n\u001b[0;32m      7\u001b[0m         \u001b[1;32mif\u001b[0m\u001b[1;33m(\u001b[0m\u001b[0mb\u001b[0m\u001b[1;33m==\u001b[0m\u001b[1;36m0\u001b[0m\u001b[1;33m)\u001b[0m\u001b[1;33m:\u001b[0m\u001b[1;33m\u001b[0m\u001b[1;33m\u001b[0m\u001b[0m\n\u001b[0;32m      8\u001b[0m             \u001b[0mprint\u001b[0m\u001b[1;33m(\u001b[0m\u001b[1;34m\"inside the if block\"\u001b[0m\u001b[1;33m)\u001b[0m\u001b[1;33m\u001b[0m\u001b[1;33m\u001b[0m\u001b[0m\n\u001b[1;32m----> 9\u001b[1;33m             \u001b[1;32mraise\u001b[0m \u001b[0mMyexception\u001b[0m\u001b[1;33m\u001b[0m\u001b[1;33m\u001b[0m\u001b[0m\n\u001b[0m\u001b[0;32m     10\u001b[0m         \u001b[1;32melse\u001b[0m\u001b[1;33m:\u001b[0m\u001b[1;33m\u001b[0m\u001b[1;33m\u001b[0m\u001b[0m\n\u001b[0;32m     11\u001b[0m             \u001b[0mprint\u001b[0m\u001b[1;33m\u001b[0m\u001b[1;33m\u001b[0m\u001b[0m\n",
      "\u001b[1;31mMyexception\u001b[0m: "
     ]
    }
   ],
   "source": [
    "class Myexception(Exception):\n",
    "    def __init__(self):\n",
    "        print(\"You are going to get zero division error\")\n",
    "\n",
    "class A:\n",
    "    def __init__(selfr,a,b):\n",
    "        if(b==0):\n",
    "            print(\"inside the if block\")\n",
    "            raise Myexception\n",
    "        else:\n",
    "            print(a/b)\n",
    "            \n",
    "class B(A):\n",
    "    pass\n",
    "B(1,0)\n",
    "        "
   ]
  },
  {
   "cell_type": "code",
   "execution_count": 14,
   "id": "eeddd654",
   "metadata": {},
   "outputs": [
    {
     "name": "stdout",
     "output_type": "stream",
     "text": [
      "division by zero\n"
     ]
    }
   ],
   "source": [
    "try:\n",
    "    class A:\n",
    "        def __init__(self,x):\n",
    "            print(10/x)\n",
    "    A(0)\n",
    "              \n",
    "except Exception as e:\n",
    "    print(e)\n"
   ]
  },
  {
   "cell_type": "code",
   "execution_count": 12,
   "id": "073b5507",
   "metadata": {},
   "outputs": [
    {
     "name": "stdout",
     "output_type": "stream",
     "text": [
      "name 'x' is not defined\n"
     ]
    }
   ],
   "source": [
    "def e():\n",
    "    try:\n",
    "        print(x)\n",
    "        def f(a,b):\n",
    "            print(a,b)\n",
    "        f(10)\n",
    "        print(2/0)\n",
    "        print(x)\n",
    "        \n",
    "    except ZeroDivisionError as z:\n",
    "        print(z)\n",
    "        \n",
    "    except TypeError as n:\n",
    "        print(n)\n",
    "        \n",
    "    except Exception as e:\n",
    "        print(e)\n",
    "        \n",
    "        \n",
    "        \n",
    "e()"
   ]
  },
  {
   "cell_type": "code",
   "execution_count": 9,
   "id": "d83a89a3",
   "metadata": {},
   "outputs": [
    {
     "ename": "TypeError",
     "evalue": "f() missing 1 required positional argument: 'b'",
     "output_type": "error",
     "traceback": [
      "\u001b[1;31m---------------------------------------------------------------------------\u001b[0m",
      "\u001b[1;31mTypeError\u001b[0m                                 Traceback (most recent call last)",
      "\u001b[1;32mC:\\Users\\SHAILA~1\\AppData\\Local\\Temp/ipykernel_1320/2178862026.py\u001b[0m in \u001b[0;36m<module>\u001b[1;34m\u001b[0m\n\u001b[0;32m      1\u001b[0m \u001b[1;32mdef\u001b[0m \u001b[0mf\u001b[0m\u001b[1;33m(\u001b[0m\u001b[0ma\u001b[0m\u001b[1;33m,\u001b[0m\u001b[0mb\u001b[0m\u001b[1;33m)\u001b[0m\u001b[1;33m:\u001b[0m\u001b[1;33m\u001b[0m\u001b[1;33m\u001b[0m\u001b[0m\n\u001b[0;32m      2\u001b[0m     \u001b[0mprint\u001b[0m\u001b[1;33m(\u001b[0m\u001b[0ma\u001b[0m\u001b[1;33m,\u001b[0m\u001b[0mb\u001b[0m\u001b[1;33m)\u001b[0m\u001b[1;33m\u001b[0m\u001b[1;33m\u001b[0m\u001b[0m\n\u001b[1;32m----> 3\u001b[1;33m \u001b[0mf\u001b[0m\u001b[1;33m(\u001b[0m\u001b[1;36m10\u001b[0m\u001b[1;33m)\u001b[0m\u001b[1;33m\u001b[0m\u001b[1;33m\u001b[0m\u001b[0m\n\u001b[0m",
      "\u001b[1;31mTypeError\u001b[0m: f() missing 1 required positional argument: 'b'"
     ]
    }
   ],
   "source": [
    "def f(a,b):\n",
    "    print(a,b)\n",
    "f(10)"
   ]
  },
  {
   "cell_type": "code",
   "execution_count": 1,
   "id": "f78a5fd8",
   "metadata": {},
   "outputs": [
    {
     "ename": "NameError",
     "evalue": "name 'x' is not defined",
     "output_type": "error",
     "traceback": [
      "\u001b[1;31m---------------------------------------------------------------------------\u001b[0m",
      "\u001b[1;31mNameError\u001b[0m                                 Traceback (most recent call last)",
      "\u001b[1;32mC:\\Users\\SHAILA~1\\AppData\\Local\\Temp/ipykernel_1320/1353120783.py\u001b[0m in \u001b[0;36m<module>\u001b[1;34m\u001b[0m\n\u001b[1;32m----> 1\u001b[1;33m \u001b[0mprint\u001b[0m\u001b[1;33m(\u001b[0m\u001b[0mx\u001b[0m\u001b[1;33m)\u001b[0m\u001b[1;33m\u001b[0m\u001b[1;33m\u001b[0m\u001b[0m\n\u001b[0m",
      "\u001b[1;31mNameError\u001b[0m: name 'x' is not defined"
     ]
    }
   ],
   "source": [
    "print(x)"
   ]
  },
  {
   "cell_type": "code",
   "execution_count": 2,
   "id": "6d0a5d88",
   "metadata": {},
   "outputs": [
    {
     "ename": "ZeroDivisionError",
     "evalue": "division by zero",
     "output_type": "error",
     "traceback": [
      "\u001b[1;31m---------------------------------------------------------------------------\u001b[0m",
      "\u001b[1;31mZeroDivisionError\u001b[0m                         Traceback (most recent call last)",
      "\u001b[1;32mC:\\Users\\SHAILA~1\\AppData\\Local\\Temp/ipykernel_1320/683720550.py\u001b[0m in \u001b[0;36m<module>\u001b[1;34m\u001b[0m\n\u001b[1;32m----> 1\u001b[1;33m \u001b[0mprint\u001b[0m\u001b[1;33m(\u001b[0m\u001b[1;36m2\u001b[0m\u001b[1;33m/\u001b[0m\u001b[1;36m0\u001b[0m\u001b[1;33m)\u001b[0m\u001b[1;33m\u001b[0m\u001b[1;33m\u001b[0m\u001b[0m\n\u001b[0m",
      "\u001b[1;31mZeroDivisionError\u001b[0m: division by zero"
     ]
    }
   ],
   "source": [
    "print(2/0)"
   ]
  },
  {
   "cell_type": "code",
   "execution_count": null,
   "id": "a0cb58d0",
   "metadata": {},
   "outputs": [],
   "source": []
  },
  {
   "cell_type": "code",
   "execution_count": null,
   "id": "9009328d",
   "metadata": {},
   "outputs": [],
   "source": []
  },
  {
   "cell_type": "code",
   "execution_count": null,
   "id": "602d03c6",
   "metadata": {},
   "outputs": [],
   "source": []
  }
 ],
 "metadata": {
  "kernelspec": {
   "display_name": "Python 3 (ipykernel)",
   "language": "python",
   "name": "python3"
  },
  "language_info": {
   "codemirror_mode": {
    "name": "ipython",
    "version": 3
   },
   "file_extension": ".py",
   "mimetype": "text/x-python",
   "name": "python",
   "nbconvert_exporter": "python",
   "pygments_lexer": "ipython3",
   "version": "3.10.5"
  }
 },
 "nbformat": 4,
 "nbformat_minor": 5
}

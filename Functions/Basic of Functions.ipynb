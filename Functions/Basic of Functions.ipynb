{
 "cells": [
  {
   "cell_type": "markdown",
   "id": "d8378430",
   "metadata": {},
   "source": [
    "# Functions  in python"
   ]
  },
  {
   "cell_type": "markdown",
   "id": "12e52061",
   "metadata": {},
   "source": [
    "We can define a function using the keyword def followed by function name. After the function name, we should write parentheses () which may contain parameters. \n",
    "Syntax :- "
   ]
  },
  {
   "cell_type": "code",
   "execution_count": 4,
   "id": "27c8c86f",
   "metadata": {},
   "outputs": [
    {
     "data": {
      "text/plain": [
       "3"
      ]
     },
     "execution_count": 4,
     "metadata": {},
     "output_type": "execute_result"
    }
   ],
   "source": [
    "#In Python a function is defined using the def keyword:\n",
    "\n",
    "def function(a,b):      # defining the function and , a & b are the parameters\n",
    "    return a+b          # return statement\n",
    "function(1,2)           # calling the function and, 1 & 2 are the arguments that are passed to the parameters a & b\n",
    "\n"
   ]
  },
  {
   "cell_type": "code",
   "execution_count": 11,
   "id": "c8cc7a3f",
   "metadata": {
    "scrolled": true
   },
   "outputs": [
    {
     "name": "stdout",
     "output_type": "stream",
     "text": [
      "31 is the odd number\n",
      "enter your number to chech whether it is even or odd : 4\n",
      "4 is the even number\n",
      "enter your number to chech whether it is even or odd : 5\n",
      "5 is the odd number\n",
      "9 is the odd number\n",
      "None\n"
     ]
    }
   ],
   "source": [
    "# we can call funtion many many ways :- \n",
    "\n",
    "#program to chech whether the given number is even or odd\n",
    "\n",
    "def even_odd(n):    # creating ka function \n",
    "    if(n%2==0):\n",
    "        print(n, \"is the even number\")\n",
    "    else:\n",
    "        print(n, \"is the odd number\")\n",
    "\n",
    "        \n",
    "even_odd(31) #calling function 1st time \n",
    "\n",
    "num=int(input(\"enter your number to chech whether it is even or odd : \")) \n",
    "even_odd(num)  #calling function 2nd time \n",
    "\n",
    "even_odd(int(input(\"enter your number to chech whether it is even or odd : \")))  #calling function 3rd time \n",
    "\n",
    "def f(x):\n",
    "    print(even_odd(x))  #calling function 4th time \n",
    "    \n",
    "x=9\n",
    "f(x)\n"
   ]
  },
  {
   "cell_type": "code",
   "execution_count": null,
   "id": "0b238523",
   "metadata": {},
   "outputs": [],
   "source": [
    "# we can call funtion many times in a single program :- \n",
    "\n",
    "\n",
    "# Program to check if a Number is Positive, Negative \n",
    "\n",
    "def positive_negative(n):    # creating ka function \n",
    "    if(n>0):\n",
    "        print(\"Number is positve \")\n",
    "    elif(n<0):\n",
    "        print(\"Number is negative\")\n",
    "\n",
    "positive_negative(44)   #calling function 1st time \n",
    "positive_negative(-8)   #calling function 2nd time\n",
    "positive_negative(-2)   #calling function 3rd time\n"
   ]
  },
  {
   "cell_type": "code",
   "execution_count": 13,
   "id": "62f7e97f",
   "metadata": {},
   "outputs": [
    {
     "name": "stdout",
     "output_type": "stream",
     "text": [
      "Hello World\n"
     ]
    }
   ],
   "source": [
    "# program to assign the function to the variable\n",
    "\n",
    "def f(n):\n",
    "    return \"Hello\" + n\n",
    "print(f(\" World\"))\n"
   ]
  },
  {
   "cell_type": "markdown",
   "id": "219c4075",
   "metadata": {},
   "source": [
    "# Pass statment :- \n",
    "Function definitions cannot be empty, but if you for some reason have a function definition with no content, put in the pass statement to avoid getting an error."
   ]
  },
  {
   "cell_type": "code",
   "execution_count": 15,
   "id": "14f6b144",
   "metadata": {},
   "outputs": [
    {
     "ename": "SyntaxError",
     "evalue": "incomplete input (3398505406.py, line 2)",
     "output_type": "error",
     "traceback": [
      "\u001b[1;36m  Input \u001b[1;32mIn [15]\u001b[1;36m\u001b[0m\n\u001b[1;33m    \u001b[0m\n\u001b[1;37m    ^\u001b[0m\n\u001b[1;31mSyntaxError\u001b[0m\u001b[1;31m:\u001b[0m incomplete input\n"
     ]
    }
   ],
   "source": [
    "def function_one():\n",
    "    "
   ]
  },
  {
   "cell_type": "code",
   "execution_count": 17,
   "id": "cf7e8f1d",
   "metadata": {},
   "outputs": [],
   "source": [
    "def function_two():\n",
    "    pass\n"
   ]
  }
 ],
 "metadata": {
  "kernelspec": {
   "display_name": "Python 3 (ipykernel)",
   "language": "python",
   "name": "python3"
  },
  "language_info": {
   "codemirror_mode": {
    "name": "ipython",
    "version": 3
   },
   "file_extension": ".py",
   "mimetype": "text/x-python",
   "name": "python",
   "nbconvert_exporter": "python",
   "pygments_lexer": "ipython3",
   "version": "3.10.5"
  }
 },
 "nbformat": 4,
 "nbformat_minor": 5
}

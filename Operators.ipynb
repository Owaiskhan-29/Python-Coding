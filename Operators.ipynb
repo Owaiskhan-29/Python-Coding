{
 "cells": [
  {
   "cell_type": "markdown",
   "id": "bddc015e",
   "metadata": {},
   "source": [
    "# Operators:-\n",
    "Operator is a symbol that performs an operation.\n",
    "\n",
    "Operators acts on operands(i.e.., variables)\n",
    "\n",
    "### example_1:-\n",
    "#### a + b \n",
    "in this expression \"a\" and \"b\" are the operands and \"+\" is the operator.\n",
    "### note:-\n",
    "1) If an operator acts on the one variable it is called unary operator \n",
    "\n",
    "2) If an operator acts on the two variable it is called binary operator \n",
    "\n",
    "3) If an operator acts on the three variable it is called ternary operator "
   ]
  },
  {
   "cell_type": "markdown",
   "id": "db5b7e5f",
   "metadata": {},
   "source": [
    "# 1) Arithmetic Operators( +,-,*,/,%,// ,**)\n"
   ]
  },
  {
   "cell_type": "markdown",
   "id": "528108ef",
   "metadata": {},
   "source": [
    "5//2=>  2) 5 (2.5   # //\n",
    "           4\n",
    "        ______\n",
    "           1     # %\n",
    " \n",
    "        "
   ]
  },
  {
   "cell_type": "code",
   "execution_count": 1,
   "id": "962b687b",
   "metadata": {},
   "outputs": [
    {
     "name": "stdout",
     "output_type": "stream",
     "text": [
      "a+b =  7\n",
      "a-b =  3\n",
      "a*b =  10\n",
      "a/b =  2.5\n",
      "a//b =  2\n",
      "a%b =  1\n",
      "a**b =  25\n"
     ]
    }
   ],
   "source": [
    "a,b=5,2\n",
    "print(\"a+b = \",a+b)   # return the addition of a,b\n",
    "print(\"a-b = \",a-b)   # return the substraction of a,b\n",
    "print(\"a*b = \",a*b)   # return the multiplication of a,b\n",
    "print(\"a/b = \",a/b)   # return the value of  a/b(\"a\" divided by \"b\")\n",
    "print(\"a//b = \",a//b) # return the floor value of the \"a\" divided by \"b\"\n",
    "print(\"a%b = \",a%b)   # return the reminder of the \"a\" divided by \"b\" \n",
    "print(\"a**b = \",a**b)  # returnn the \"a\" to the power of the \"b"
   ]
  },
  {
   "cell_type": "markdown",
   "id": "9e822a49",
   "metadata": {},
   "source": [
    "15/2 ==  10) 15 (2 # this is return by \"/\"\n",
    "              20\n",
    "             _____\n",
    "               0  # This is return by \" %\""
   ]
  },
  {
   "cell_type": "code",
   "execution_count": null,
   "id": "92351f8e",
   "metadata": {},
   "outputs": [],
   "source": []
  },
  {
   "cell_type": "markdown",
   "id": "246ce44c",
   "metadata": {},
   "source": [
    "# 2) Assignment Operators( +=,-=,*=,/=,%=,//= )"
   ]
  },
  {
   "cell_type": "code",
   "execution_count": 14,
   "id": "37d8e94f",
   "metadata": {
    "scrolled": true
   },
   "outputs": [
    {
     "name": "stdout",
     "output_type": "stream",
     "text": [
      "15\n",
      "20\n",
      "12\n",
      "144\n",
      "12.0\n",
      "6.0\n"
     ]
    }
   ],
   "source": [
    "a=10\n",
    "b=20\n",
    "c=10\n",
    "\n",
    "a+=5   #  a=a+5\n",
    "print(a)\n",
    "\n",
    "a=a+5  # == > a=10+5=15\n",
    "print(a)\n",
    "\n",
    "b-=8   # b=b-8\n",
    "print(b)\n",
    "\n",
    "b*=b   # b=b*b\n",
    "print(b)\n",
    "\n",
    "b/=12  # b=b/12\n",
    "print(b)\n",
    "\n",
    "b//=2   # b=b//2\n",
    "print(b)\n",
    "\n"
   ]
  },
  {
   "cell_type": "markdown",
   "id": "d5442e50",
   "metadata": {},
   "source": [
    "# 3) Relational Opearators(  <,>,<=,>=,==,!= ):-\n",
    ">Relational Opearators Used to compare two quantities"
   ]
  },
  {
   "cell_type": "code",
   "execution_count": 1,
   "id": "23606b96",
   "metadata": {},
   "outputs": [
    {
     "name": "stdout",
     "output_type": "stream",
     "text": [
      "False\n",
      "False\n",
      "True\n",
      "True\n",
      "False\n",
      "True\n",
      "_________________\n",
      "False\n",
      "True\n",
      "False\n",
      "True\n",
      "True\n",
      "False\n"
     ]
    }
   ],
   "source": [
    "x=10\n",
    "y=20\n",
    "\n",
    "print(x>y)\n",
    "print(x>=y)\n",
    "print(x<y)\n",
    "print(x<=y)\n",
    "print(x==y)\n",
    "print(x!=y)\n",
    "\n",
    "print(\"_________________\")\n",
    "\n",
    "print(x>x)\n",
    "print(x>=x)\n",
    "print(x<x)\n",
    "print(x<=x)\n",
    "print(x==x)\n",
    "print(x!=x)"
   ]
  },
  {
   "cell_type": "markdown",
   "id": "cc50b5f4",
   "metadata": {},
   "source": [
    "# 4) Logical Operators(or,and,not):-"
   ]
  },
  {
   "cell_type": "markdown",
   "id": "c283225a",
   "metadata": {},
   "source": [
    "1) and # (x and y),if x is False, it return x, otherwise it return y.\n",
    "\n",
    "2) or # (x or y),if x is False, it return y, otherwise it return x.\n",
    "\n",
    "3) not # (not y),if x is False,it return True,otherwise True.\n",
    "\n",
    "Logical operators are useful to construct the compound conditions. A compound condition is a combination of the more then one simple condition."
   ]
  },
  {
   "cell_type": "markdown",
   "id": "677f8c0b",
   "metadata": {},
   "source": [
    "### Truth Table for \"or\"\n",
    "T+T=T\n",
    "\n",
    "T+F=T\n",
    "\n",
    "F+T=T\n",
    "\n",
    "F+F=F\n",
    "\n",
    "### Truth Table for \"and\"\n",
    "T+T=T\n",
    "\n",
    "T+F=F\n",
    "\n",
    "F+T=F\n",
    "\n",
    "F+F=F"
   ]
  },
  {
   "cell_type": "code",
   "execution_count": 5,
   "id": "2309834a",
   "metadata": {
    "scrolled": true
   },
   "outputs": [
    {
     "name": "stdout",
     "output_type": "stream",
     "text": [
      "False\n",
      "True\n",
      "False\n",
      "True\n",
      "\n",
      "===========\n",
      "\n",
      "200\n",
      "100\n",
      "False\n",
      "True\n",
      "\n",
      "===========\n",
      "\n",
      "3\n",
      "1\n",
      "2\n",
      "1\n"
     ]
    }
   ],
   "source": [
    "x=100\n",
    "y=200\n",
    "z=100\n",
    "print(x>y and y<z)\n",
    "print(x>z or x==z)\n",
    "print(not y>x)\n",
    "print(not x<z)\n",
    "print(\"\\n===========\\n\")\n",
    "print(x and y)\n",
    "print(x or y)\n",
    "print(not y)\n",
    "print(not 0)\n",
    "print(\"\\n===========\\n\")\n",
    "print(1 and 2 and 3)\n",
    "print(1 or 2 or 3)\n",
    "print(1 and 2 or 3)\n",
    "print(1 or 2 and 3)"
   ]
  },
  {
   "cell_type": "code",
   "execution_count": 3,
   "id": "0556a8b4",
   "metadata": {},
   "outputs": [
    {
     "name": "stdout",
     "output_type": "stream",
     "text": [
      "1)  200\n",
      "2)  100\n",
      "3)  False\n"
     ]
    }
   ],
   "source": [
    "x=100\n",
    "y=200\n",
    "print(\"1) \",x and y)\n",
    "print(\"2) \",x or y)\n",
    "print(\"3) \",not y)"
   ]
  },
  {
   "cell_type": "markdown",
   "id": "ae735382",
   "metadata": {},
   "source": [
    "# 5) Boolean Opeartor\n",
    ">There two bool type literals. They are \"True\" and \"False\". Boolean operators acts upon \"bool\" type literals and they provide \"bool\" type output. That means the result privided by the boolean operators is either \"True\" or \"False\" ."
   ]
  },
  {
   "cell_type": "code",
   "execution_count": 29,
   "id": "f291b220",
   "metadata": {},
   "outputs": [
    {
     "name": "stdout",
     "output_type": "stream",
     "text": [
      "False\n",
      "False\n",
      "True\n",
      "False\n"
     ]
    }
   ],
   "source": [
    "print(True and False)\n",
    "print(False and True)\n",
    "print(True and True)\n",
    "print(False and False)"
   ]
  },
  {
   "cell_type": "markdown",
   "id": "2b630cc0",
   "metadata": {},
   "source": [
    "# 6) Mebership Operator\n",
    "Membership operator is usufull to test the membership in the sequence such as list, tuple,dictionary and string..... etc:\n",
    "\n",
    "There are two membership operators:\n",
    "\n",
    "1) in       \n",
    "> This operator return True if an element find in the specified sequence, otherwise it return False\n",
    "\n",
    "2) not in\n",
    "> This operator is complety reverse to the \"in\" operator, This operator return True if an element not find in the specified sequence such as list, tuple,dictionary and string..... etc,otherewise return False."
   ]
  },
  {
   "cell_type": "code",
   "execution_count": 5,
   "id": "cc726346",
   "metadata": {},
   "outputs": [
    {
     "name": "stdout",
     "output_type": "stream",
     "text": [
      "True\n",
      "False\n"
     ]
    }
   ],
   "source": [
    "l=[1,2,3,4,5]\n",
    "print(2 in l)\n",
    "print(3 not in l)"
   ]
  },
  {
   "cell_type": "code",
   "execution_count": 1,
   "id": "b302588a",
   "metadata": {
    "collapsed": true
   },
   "outputs": [
    {
     "name": "stdout",
     "output_type": "stream",
     "text": [
      "False\n",
      "True\n",
      "True\n",
      "False\n",
      "True\n",
      "True\n",
      "True\n"
     ]
    }
   ],
   "source": [
    "s=\"Data Science with python\"\n",
    "print(\"data\" in s)\n",
    "print(\"Data\" in s)\n",
    "print(\" \" in s)\n",
    "\n",
    "s=\"Data Science with python\"\n",
    "print(\"data\" in s)\n",
    "print(\"Data\" in s)\n",
    "print(\" \" in s)\n",
    "print(\"Data Science \" in s)"
   ]
  },
  {
   "cell_type": "markdown",
   "id": "aa2746e9",
   "metadata": {},
   "source": [
    "# 7)  identity operator"
   ]
  },
  {
   "cell_type": "markdown",
   "id": "b866f54e",
   "metadata": {},
   "source": [
    ">The memory location of the object can be seen by the id() function. this function returns the integer number, \n",
    "called identity number, that initially represent the memory location of the object."
   ]
  },
  {
   "cell_type": "code",
   "execution_count": 37,
   "id": "058cb6ac",
   "metadata": {},
   "outputs": [
    {
     "name": "stdout",
     "output_type": "stream",
     "text": [
      "1729\n",
      "796386503504\n",
      "796275469200\n",
      "796386503728\n"
     ]
    }
   ],
   "source": [
    "x = 1729\n",
    "y = 20\n",
    "print(x)\n",
    "print(id(x))\n",
    "print(id(y))\n",
    "\n",
    "print(id(1729))"
   ]
  },
  {
   "cell_type": "markdown",
   "id": "c1defe01",
   "metadata": {},
   "source": [
    "### There are 2 identity oprators\n",
    "1) is \n",
    "\n",
    "2) is not\n",
    "\n",
    "These operators are used to compare the memory location of the two objects. Hence, it is possible to know that, they are same or not."
   ]
  },
  {
   "cell_type": "code",
   "execution_count": 46,
   "id": "0cb139d0",
   "metadata": {},
   "outputs": [
    {
     "name": "stdout",
     "output_type": "stream",
     "text": [
      "796275468880\n",
      "796275468880\n",
      "True\n",
      "True\n",
      "============================\n",
      "796368319424\n",
      "796368319360\n",
      "False\n",
      "True\n"
     ]
    }
   ],
   "source": [
    "x=10\n",
    "y=10\n",
    "print(id(x))\n",
    "print(id(y))\n",
    "print(x is y)\n",
    "print(x==y)\n",
    "\n",
    "print(\"============================\")\n",
    "\n",
    "x=[1,2,3,4] \n",
    "y=[1,2,3,4]  \n",
    "print(id(x))\n",
    "print(id(y))\n",
    "print(x is y)\n",
    "print(x==y)"
   ]
  },
  {
   "cell_type": "code",
   "execution_count": 17,
   "id": "3ab043b2",
   "metadata": {},
   "outputs": [
    {
     "name": "stdout",
     "output_type": "stream",
     "text": [
      "not same\n",
      "815120673360\n",
      "815120673392\n",
      "815120673360\n",
      "True\n"
     ]
    }
   ],
   "source": [
    "# is \n",
    "\n",
    "a=10\n",
    "b=11\n",
    "if(a is b):\n",
    "    print(\"same\")\n",
    "else:\n",
    "    print(\"not same\")\n",
    "    \n",
    "#output is \" same\". because...., id of the a and b is same.\n",
    "print(id(a))\n",
    "print(id(b))\n",
    "print(id(10))\n",
    "print(a is not b)"
   ]
  },
  {
   "cell_type": "code",
   "execution_count": 10,
   "id": "8d4d5ac6",
   "metadata": {},
   "outputs": [
    {
     "name": "stdout",
     "output_type": "stream",
     "text": [
      "same\n",
      "124969206704\n",
      "124969206704\n"
     ]
    }
   ],
   "source": [
    "a=\"python\"\n",
    "b=\"python\"\n",
    "if(a is b):\n",
    "    print(\"same\")\n",
    "else:\n",
    "    print(\"not same\")\n",
    "    \n",
    "#output is \" not same\". because...., id of the a and b is not same.\n",
    "print(id(a))\n",
    "print(id(b))"
   ]
  },
  {
   "cell_type": "code",
   "execution_count": 11,
   "id": "fefed0f0",
   "metadata": {},
   "outputs": [
    {
     "name": "stdout",
     "output_type": "stream",
     "text": [
      "not same\n",
      "125035392064\n",
      "125035398592\n"
     ]
    }
   ],
   "source": [
    "# is \n",
    "\n",
    "a=[1,2,3,4,5]\n",
    "b=[1,2,3,4,5]\n",
    "if(a is b):\n",
    "    print(\"same\")\n",
    "else:\n",
    "    print(\"not same\")\n",
    "    \n",
    "#output is \"not same\". because...., id of the a and b is not same.\n",
    "print(id(a))\n",
    "print(id(b))"
   ]
  },
  {
   "cell_type": "markdown",
   "id": "f299bf40",
   "metadata": {},
   "source": [
    "#### #### so, if you want to compare the values of the objects, we should use  the \" == \""
   ]
  },
  {
   "cell_type": "code",
   "execution_count": null,
   "id": "4e299c67",
   "metadata": {},
   "outputs": [],
   "source": [
    "a=10\n",
    "b=10\n",
    "if(a == b):\n",
    "    print(\"same\")\n",
    "else:\n",
    "    print(\"not same\")\n",
    "    \n",
    "# #output is \" same\". because...., id of the a and b is same.\n",
    "# print(id(a))\n",
    "# print(id(b))"
   ]
  },
  {
   "cell_type": "code",
   "execution_count": 12,
   "id": "d7b6a21e",
   "metadata": {},
   "outputs": [
    {
     "name": "stdout",
     "output_type": "stream",
     "text": [
      "same\n"
     ]
    }
   ],
   "source": [
    "a=\"python\"\n",
    "b=\"python\"\n",
    "if(a == b):\n",
    "    print(\"same\")\n",
    "else:\n",
    "    print(\"not same\")"
   ]
  },
  {
   "cell_type": "code",
   "execution_count": 13,
   "id": "ee710865",
   "metadata": {},
   "outputs": [
    {
     "name": "stdout",
     "output_type": "stream",
     "text": [
      "same\n",
      "=============\n",
      "True\n",
      "False\n"
     ]
    }
   ],
   "source": [
    "a=[1,2,3,4,5]\n",
    "b=[1,2,3,4,5]\n",
    "if(a == b):\n",
    "    print(\"same\")\n",
    "else:\n",
    "    print(\"not same\")\n",
    "    \n",
    "print(\"=============\")\n",
    "print(a==b)\n",
    "print(a is b)"
   ]
  },
  {
   "cell_type": "markdown",
   "id": "8d99be11",
   "metadata": {},
   "source": [
    "# 8) Bitwise oprators in python"
   ]
  },
  {
   "cell_type": "markdown",
   "id": "fdd1c67a",
   "metadata": {},
   "source": [
    "### Bitwise NOT (Complement) Operator( ~ )"
   ]
  },
  {
   "cell_type": "code",
   "execution_count": 49,
   "id": "b7975a74",
   "metadata": {},
   "outputs": [
    {
     "name": "stdout",
     "output_type": "stream",
     "text": [
      "-12\n",
      "-13\n",
      "-14\n",
      "-1730\n"
     ]
    }
   ],
   "source": [
    "# \"~\" return the complement of the number\n",
    "# a compliment is -a\n",
    "\n",
    "print(~11)                           \n",
    "print( ~ 12)\n",
    "print(~13)\n",
    "print(~1729)\n"
   ]
  },
  {
   "cell_type": "markdown",
   "id": "881e56ac",
   "metadata": {},
   "source": [
    "### bitwise AND Operator ( & )"
   ]
  },
  {
   "cell_type": "markdown",
   "id": "536d097d",
   "metadata": {},
   "source": [
    "#### TRUE table for AND :-\n",
    "\n",
    "# 0 0 = 0\n",
    "# 0 1 = 0\n",
    "# 1 0 = 0\n",
    "# 1 1 = 1"
   ]
  },
  {
   "cell_type": "code",
   "execution_count": 50,
   "id": "74c6c2f0",
   "metadata": {},
   "outputs": [
    {
     "name": "stdout",
     "output_type": "stream",
     "text": [
      "10\n"
     ]
    }
   ],
   "source": [
    "# it peforms the AND operation on the idividual bits of the number\n",
    "\n",
    "print(10 & 11) #bin(10) = 0000 1010\n",
    "               #bin(11) = 0000 1011\n",
    "               #        = 0000 1010 = bin(10)\n",
    "\n"
   ]
  },
  {
   "cell_type": "markdown",
   "id": "7fec49b2",
   "metadata": {},
   "source": [
    "### Bitewise OR Operator ( | )"
   ]
  },
  {
   "cell_type": "markdown",
   "id": "2814866e",
   "metadata": {},
   "source": [
    "#### TRUE table for OR :-\n",
    "\n",
    "# 0 0 = 0\n",
    "# 0 1 = 1\n",
    "# 1 0 = 1\n",
    "# 1 1 = 1"
   ]
  },
  {
   "cell_type": "code",
   "execution_count": 53,
   "id": "c823886b",
   "metadata": {},
   "outputs": [
    {
     "name": "stdout",
     "output_type": "stream",
     "text": [
      "11\n"
     ]
    }
   ],
   "source": [
    "# it peforms the OR operation on the idividual bits of the number\n",
    "\n",
    "print(10 | 11) #bin(10) = 0000 1010\n",
    "               #bin(11) = 0000 1011\n",
    "               #        = 0000 1011 = bin(11)"
   ]
  },
  {
   "cell_type": "markdown",
   "id": "a041eee3",
   "metadata": {},
   "source": [
    "### Bitwise XOR OPerator ( ^ )"
   ]
  },
  {
   "cell_type": "markdown",
   "id": "7a4cedf7",
   "metadata": {},
   "source": [
    "#### TRUE table for XOR :-\n",
    "\n",
    "# 0 0 = 0\n",
    "# 0 1 = 1\n",
    "# 1 0 = 1\n",
    "# 1 1 = 0"
   ]
  },
  {
   "cell_type": "code",
   "execution_count": 54,
   "id": "504b25d8",
   "metadata": {},
   "outputs": [
    {
     "name": "stdout",
     "output_type": "stream",
     "text": [
      "1\n"
     ]
    }
   ],
   "source": [
    "\"\"\"\n",
    "This operator performs exclusive (OR) XOR operation on the bits of the numbers\n",
    "\" ^ \" symbol is called cap,carat,circumflex syblom\n",
    "\n",
    "\"\"\"\n",
    "print(10 ^ 11) #bin(10) = 0000 1010\n",
    "               #bin(11) = 0000 1011\n",
    "               #        = 0000 0001 = bin(1)\n"
   ]
  },
  {
   "cell_type": "markdown",
   "id": "9b2491f5",
   "metadata": {},
   "source": [
    "### Bitwise Left Shift Operation"
   ]
  },
  {
   "cell_type": "code",
   "execution_count": 56,
   "id": "a030562a",
   "metadata": {},
   "outputs": [
    {
     "name": "stdout",
     "output_type": "stream",
     "text": [
      "40\n"
     ]
    }
   ],
   "source": [
    "print(10<<2)    # "
   ]
  },
  {
   "cell_type": "markdown",
   "id": "4cf52784",
   "metadata": {},
   "source": [
    "### Bitwise Right Shift Operation"
   ]
  },
  {
   "cell_type": "code",
   "execution_count": 57,
   "id": "56dba90c",
   "metadata": {},
   "outputs": [
    {
     "name": "stdout",
     "output_type": "stream",
     "text": [
      "2\n"
     ]
    }
   ],
   "source": [
    "print(10>>2)    #"
   ]
  },
  {
   "cell_type": "code",
   "execution_count": null,
   "id": "5d19c41f",
   "metadata": {},
   "outputs": [],
   "source": []
  },
  {
   "cell_type": "markdown",
   "id": "cb007b77",
   "metadata": {},
   "source": [
    "# Mathematical Functions"
   ]
  },
  {
   "cell_type": "code",
   "execution_count": 14,
   "id": "a1751692",
   "metadata": {},
   "outputs": [
    {
     "name": "stdout",
     "output_type": "stream",
     "text": [
      "ceil of 12.34 is  13\n",
      "floor of 12.34 is  12\n",
      "degrees value of radians 12.34 is  707.0299191914359\n",
      "radians value of the degree 12 .34 is  0.21537362969610027\n",
      "sin(60) is  -0.3048106211022167\n",
      "cos(60) is  -0.9524129804151563\n",
      "tan(60) is  0.320040389379563\n",
      "e^2 is  7.38905609893065\n",
      "absolute value of the 12 is  12.0 absolute value of the -12.34 is  12.34\n",
      "factorial of the 4 is  24\n",
      "reminder for 10 divided by 4  2.0\n",
      "sum of elements in a sequence is  45.0\n",
      "55.0\n",
      "55.0\n",
      "the fraction and inter part of the float 2.56 is  (0.56, 2.0)\n",
      "square root of the 4 is  2.0\n",
      "the value of the 5 to the power of 2 is  25.0\n",
      "GCD of 25,10 is 5\n"
     ]
    }
   ],
   "source": [
    "import math as m\n",
    "\n",
    "#ceil()\n",
    "print(\"ceil of 12.34 is \",m.ceil(12.34))  # return ceil value of the 12.34\n",
    "\n",
    "#floor()\n",
    "print(\"floor of 12.34 is \",m.floor(12.34))  # return floor value of the 12.34\n",
    "\n",
    "#degree()\n",
    "print(\"degrees value of radians 12.34 is \",m.degrees(12.34))  # \n",
    "\n",
    "#degrees()\n",
    "print(\"radians value of the degree 12 .34 is \",m.radians(12.34))\n",
    "\n",
    "#sin()\n",
    "print(\"sin(60) is \",m.sin(60)) # 60 is radians value\n",
    "\n",
    "#cos()\n",
    "print(\"cos(60) is \",m.cos(60)) # 60 is radians value\n",
    "\n",
    "#tan()\n",
    "print(\"tan(60) is \",m.tan(60)) # 60 is radians value\n",
    "\n",
    "#exp()\n",
    "print(\"e^2 is \",m.exp(2)) # exponatiation of the 2\n",
    "\n",
    "#fabs()\n",
    "print(\"absolute value of the 12 is \",m.fabs(12),\"absolute value of the -12.34 is \",m.fabs(-12.34))\n",
    "\n",
    "#factorial()\n",
    "print(\"factorial of the 4 is \",m.factorial(4))\n",
    "#print(\"factorial of the 4.56 is \",m.factorial(4.56)) #value error\n",
    "#print(\"factorial of the -4 is \",m.factorial(-4)) # value error\n",
    "#print(\"factorial of the 'a' is \",m.factorial(\"a\")) # type error\n",
    "\n",
    "#fmod()\n",
    "print(\"reminder for 10 divided by 4 \",m.fmod(10,4)) # return the reminder\n",
    "\n",
    "#sum()\n",
    "print(\"sum of elements in a sequence is \",m.fsum(range(10))) # return thr sum of thr elements in the sequence\n",
    "print(m.fsum([1,2,3,4,5,6,7,8,9,10]))\n",
    "print(m.fsum((1,2,3,4,5,6,7,8,9,10)))\n",
    "\n",
    "#modf()\n",
    "print(\"the fraction and inter part of the float 2.56 is \",m.modf(2.56))  # return the fraction and inter part of the float\n",
    "\n",
    "#sqrt()\n",
    "print(\"square root of the 4 is \",m.sqrt(4))\n",
    "\n",
    "#pow()\n",
    "print(\"the value of the 5 to the power of 2 is \",m.pow(5,2))\n",
    "\n",
    "#gcd()\n",
    "print(\"GCD of 25,10 is\",m.gcd(25,10))"
   ]
  },
  {
   "cell_type": "code",
   "execution_count": null,
   "id": "e1181113",
   "metadata": {},
   "outputs": [],
   "source": []
  }
 ],
 "metadata": {
  "kernelspec": {
   "display_name": "Python 3 (ipykernel)",
   "language": "python",
   "name": "python3"
  },
  "language_info": {
   "codemirror_mode": {
    "name": "ipython",
    "version": 3
   },
   "file_extension": ".py",
   "mimetype": "text/x-python",
   "name": "python",
   "nbconvert_exporter": "python",
   "pygments_lexer": "ipython3",
   "version": "3.10.5"
  }
 },
 "nbformat": 4,
 "nbformat_minor": 5
}
